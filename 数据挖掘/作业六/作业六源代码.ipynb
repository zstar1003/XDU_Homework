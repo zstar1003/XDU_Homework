{
 "cells": [
  {
   "cell_type": "markdown",
   "id": "ad99d844-d122-4515-b929-e54e5dd9da95",
   "metadata": {},
   "source": [
    "# 作业六\n",
    "编程如下数据聚类：双层正方形"
   ]
  },
  {
   "cell_type": "markdown",
   "id": "bb5a2463-9f26-4f2d-a908-e8b1e3fa578d",
   "metadata": {
    "tags": []
   },
   "source": [
    "# 导库与全局设置"
   ]
  },
  {
   "cell_type": "code",
   "execution_count": 1,
   "id": "3adf5f76-c244-4a77-b26b-afd03ae691dd",
   "metadata": {},
   "outputs": [],
   "source": [
    "import matplotlib.pyplot as plt\n",
    "import numpy as np\n",
    "from sklearn.cluster import KMeans, DBSCAN"
   ]
  },
  {
   "cell_type": "code",
   "execution_count": 2,
   "id": "716892ce-b9ff-4ce3-adc1-43d3c6fc5fe2",
   "metadata": {
    "tags": []
   },
   "outputs": [],
   "source": [
    "plt.rcParams['font.sans-serif'] = [\"SimHei\"]\n",
    "plt.rcParams[\"axes.unicode_minus\"] = False"
   ]
  },
  {
   "cell_type": "markdown",
   "id": "f671bbf7-41e2-4010-a8e8-ca4e1ffc332b",
   "metadata": {},
   "source": [
    "# 生成双层正方形数据"
   ]
  },
  {
   "cell_type": "code",
   "execution_count": 3,
   "id": "b5b517b4-a82d-406f-9a8a-97621d77d784",
   "metadata": {},
   "outputs": [],
   "source": [
    "a = np.arange(1, 10, 0.01)\n",
    "b = np.arange(3, 8, 0.01)\n",
    "w = np.zeros((5600, 3))\n",
    "# 外层正方形点\n",
    "w[:900, 0] = a\n",
    "w[:900, 1] = 1\n",
    "w[900:1800, 0] = 1\n",
    "w[900:1800, 1] = a\n",
    "w[1800:2700, 0] = a\n",
    "w[1800:2700, 1] = 10\n",
    "w[2700:3600, 0] = 10\n",
    "w[2700:3600, 1] = a\n",
    "# 内层正方形点\n",
    "w[3600:4100, 0] = b\n",
    "w[3600:4100, 1] = 3\n",
    "w[4100:4600, 0] = 3\n",
    "w[4100:4600, 1] = b\n",
    "w[4600:5100, 0] = b\n",
    "w[4600:5100, 1] = 8\n",
    "w[5100:, 0] = 8\n",
    "w[5100:, 1] = b\n",
    "w[3600:, 2] = 1"
   ]
  },
  {
   "cell_type": "markdown",
   "id": "a7e46a2a-32bf-463f-beb8-47fcc6441a20",
   "metadata": {},
   "source": [
    "# K-Means 聚类\n",
    "\n",
    "## 参数说明\n",
    "\n",
    "n_clusters:聚类个数\n",
    "\n",
    "random_state：控制参数随机性"
   ]
  },
  {
   "cell_type": "code",
   "execution_count": 4,
   "id": "f2aa3a0b-60db-4c65-877d-d8db3ab89c6a",
   "metadata": {},
   "outputs": [],
   "source": [
    "cluster = KMeans(n_clusters=2, random_state=0)\n",
    "y = cluster.fit_predict(w)"
   ]
  },
  {
   "cell_type": "code",
   "execution_count": 5,
   "id": "32359713-d394-4149-a8bf-d5bf412b70dd",
   "metadata": {},
   "outputs": [
    {
     "data": {
      "image/png": "[encoded data removed]",
      "text/plain": [
       "<Figure size 1080x1080 with 2 Axes>"
      ]
     },
     "metadata": {
      "needs_background": "light"
     },
     "output_type": "display_data"
    }
   ],
   "source": [
    "colors = ['black', 'red']\n",
    "plt.figure(figsize=(15, 15))\n",
    "plt.subplot(2, 2, 1)\n",
    "for i in range(len(w)):\n",
    "    plt.scatter(w[i][0], w[i][1], color=colors[int(w[i][2])])\n",
    "    plt.title(\"原始数据\")\n",
    "plt.subplot(2, 2, 2)\n",
    "for i in range(len(y)):\n",
    "    plt.scatter(w[i][0],  w[i][1], color=colors[y[i]])\n",
    "    plt.title(\"聚类后数据\")"
   ]
  },
  {
   "cell_type": "markdown",
   "id": "4ed6d964-4e73-490e-9da2-eb5ff71ce0e5",
   "metadata": {
    "tags": []
   },
   "source": [
    "# DBSCAN 聚类\n",
    "\n",
    "## 参数说明\n",
    "\n",
    "eps：ϵ-邻域的距离阈值，和样本距离超过ϵ的样本点不在ϵ-邻域内，默认值是0.5。\n",
    "\n",
    "min_samples：形成高密度区域的最小点数。作为核心点的话邻域(即以其为圆心，eps为半径的圆，含圆上的点)中的最小样本数(包括点本身)。\n",
    "\n",
    "若y=-1，则为异常点。"
   ]
  },
  {
   "cell_type": "markdown",
   "id": "c91d1926-65c1-4586-ae8e-3c64bdc2f2ce",
   "metadata": {},
   "source": [
    "由于DBSCAN生成的类别不确定，因此定义一个函数用来筛选出符合指定类别的最合适的参数。\n",
    "\n",
    "合适的标准是异常点个数最少。"
   ]
  },
  {
   "cell_type": "code",
   "execution_count": 6,
   "id": "f2f6c68b-3b9d-446d-bf83-aa37bd7855fd",
   "metadata": {},
   "outputs": [],
   "source": [
    "# 筛选参数\n",
    "def search_best_parameter(N_clusters, X):\n",
    "    min_outliners = 999\n",
    "    best_eps = 0\n",
    "    best_min_samples = 0\n",
    "    # 迭代不同的eps值\n",
    "    for eps in np.arange(0.001, 1, 0.05):\n",
    "        # 迭代不同的min_samples值\n",
    "        for min_samples in range(2, 10):\n",
    "            dbscan = DBSCAN(eps=eps, min_samples=min_samples)\n",
    "            # 模型拟合\n",
    "            y = dbscan.fit_predict(X)\n",
    "            # 统计各参数组合下的聚类个数（-1表示异常点）\n",
    "            if len(np.argwhere(y == -1)) == 0:\n",
    "                n_clusters = len(np.unique(y))\n",
    "            else:\n",
    "                n_clusters = len(np.unique(y)) - 1\n",
    "            # 异常点的个数\n",
    "            outliners = len([i for i in y if i == -1])\n",
    "            if outliners < min_outliners and n_clusters == N_clusters:\n",
    "                min_outliners = outliners\n",
    "                best_eps = eps\n",
    "                best_min_samples = min_samples\n",
    "    return best_eps, best_min_samples"
   ]
  },
  {
   "cell_type": "code",
   "execution_count": 7,
   "id": "64dc7d9d-439d-470d-b82a-e3b8396ac913",
   "metadata": {},
   "outputs": [],
   "source": [
    "eps, min_samples = search_best_parameter(2, w)\n",
    "dbscan = DBSCAN(eps=eps, min_samples=min_samples)\n",
    "y = dbscan.fit_predict(w)"
   ]
  },
  {
   "cell_type": "code",
   "execution_count": 8,
   "id": "5990feea-fb4b-4dfb-8734-b7065dae14e3",
   "metadata": {},
   "outputs": [
    {
     "data": {
      "image/png": "[encoded data removed]",
      "text/plain": [
       "<Figure size 1080x1080 with 2 Axes>"
      ]
     },
     "metadata": {
      "needs_background": "light"
     },
     "output_type": "display_data"
    }
   ],
   "source": [
    "colors = ['black', 'red']\n",
    "plt.figure(figsize=(15, 15))\n",
    "plt.subplot(2, 2, 1)\n",
    "for i in range(len(w)):\n",
    "    plt.scatter(w[i][0], w[i][1], color=colors[int(w[i][2])])\n",
    "    plt.title(\"原始数据\")\n",
    "plt.subplot(2, 2, 2)\n",
    "for i in range(len(y)):\n",
    "    plt.scatter(w[i][0],  w[i][1], color=colors[y[i]])\n",
    "    plt.title(\"聚类后数据\")"
   ]
  },
  {
   "cell_type": "markdown",
   "id": "403be60b-4702-45cd-9146-1244d7589c23",
   "metadata": {},
   "source": [
    "# 总结\n",
    "对于双层正方形数据来说，K-Means聚类方法不适合进行聚类，而采用DBSCAN方法可以取得较好的效果。"
   ]
  }
 ],
 "metadata": {
  "kernelspec": {
   "display_name": "Python 3 (ipykernel)",
   "language": "python",
   "name": "python3"
  },
  "language_info": {
   "codemirror_mode": {
    "name": "ipython",
    "version": 3
   },
   "file_extension": ".py",
   "mimetype": "text/x-python",
   "name": "python",
   "nbconvert_exporter": "python",
   "pygments_lexer": "ipython3",
   "version": "3.8.3"
  }
 },
 "nbformat": 4,
 "nbformat_minor": 5
}
