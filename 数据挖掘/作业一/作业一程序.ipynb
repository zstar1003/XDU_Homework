{
 "cells": [
  {
   "cell_type": "markdown",
   "id": "aae01fdd-72f7-4d4d-97dd-68f8ed8ca090",
   "metadata": {},
   "source": [
    "# 作业一\n",
    "\n",
    "给定两个被元组（22,1,42,10）和（20,0,36,8）表示的对象\n",
    "\n",
    "（a）计算这两个对象之间的欧几里得距离；\n",
    "\n",
    "（b）计算这两个对象之间的曼哈顿距离；\n",
    "\n",
    "（c）使用q=3，计算这两个对象之间的闵可夫斯基距离\n",
    "\n",
    "（d）计算着两个对象之间的上确界距离"
   ]
  },
  {
   "cell_type": "markdown",
   "id": "b806200c-9ec3-4507-a30b-d91c93e0344c",
   "metadata": {},
   "source": [
    "# 创建对象"
   ]
  },
  {
   "cell_type": "code",
   "execution_count": 1,
   "id": "69977056-da62-4a14-8ac3-6222bfce6a86",
   "metadata": {},
   "outputs": [],
   "source": [
    "a = (22, 1, 42, 10)\n",
    "b = (20, 0, 36, 8)"
   ]
  },
  {
   "cell_type": "markdown",
   "id": "f7ff331d-0f16-4cb4-9d33-709d0108eed2",
   "metadata": {},
   "source": [
    "# 欧氏距离\n",
    "![image-pt1](img/pt1.jpg)\n",
    "\n",
    "![image-pt](img/pt2.jpg)"
   ]
  },
  {
   "cell_type": "code",
   "execution_count": 2,
   "id": "6da82dc9-f2f9-4b3a-98df-f4cb0e4719ba",
   "metadata": {},
   "outputs": [],
   "source": [
    "import numpy as np\n",
    "\n",
    "\n",
    "def euclidean(x, y):\n",
    "    return np.sqrt(sum((x[i] - y[i]) ** 2 for i in range(len(x))))"
   ]
  },
  {
   "cell_type": "code",
   "execution_count": 3,
   "id": "d2c1ef57-38e0-4d23-b4e2-5c102b548e87",
   "metadata": {},
   "outputs": [
    {
     "data": {
      "text/plain": [
       "6.708203932499369"
      ]
     },
     "execution_count": 3,
     "metadata": {},
     "output_type": "execute_result"
    }
   ],
   "source": [
    "euclidean(a, b)"
   ]
  },
  {
   "cell_type": "markdown",
   "id": "e2d0d108-0f90-4c9b-a961-4e3eb264946b",
   "metadata": {},
   "source": [
    "# 曼哈顿距离\n",
    "![image-pt](img/pt3.jpg)\n",
    "\n",
    "![image-pt](img/pt4.jpg)"
   ]
  },
  {
   "cell_type": "code",
   "execution_count": 4,
   "id": "effa3738-5d1e-4d64-8742-3b7113b63ac0",
   "metadata": {},
   "outputs": [],
   "source": [
    "def manhattan(x, y):\n",
    "    return sum(np.abs(x[i] - y[i]) for i in range(len(x)))"
   ]
  },
  {
   "cell_type": "code",
   "execution_count": 5,
   "id": "568ff0d2-b5b8-4fb4-8aba-6fd42c4480a4",
   "metadata": {},
   "outputs": [
    {
     "data": {
      "text/plain": [
       "11"
      ]
     },
     "execution_count": 5,
     "metadata": {},
     "output_type": "execute_result"
    }
   ],
   "source": [
    "manhattan(a, b)"
   ]
  },
  {
   "cell_type": "markdown",
   "id": "948e6798-8506-4bea-b2d2-b78ef0d63c92",
   "metadata": {},
   "source": [
    "# 闵可夫斯基距离\n",
    "![image-pt](img/pt6.jpg)\n",
    "\n",
    "![image-pt](img/pt5.jpg)"
   ]
  },
  {
   "cell_type": "code",
   "execution_count": 6,
   "id": "994ad72c-9e95-4802-94ad-a6f9a8296445",
   "metadata": {},
   "outputs": [],
   "source": [
    "def minkowski(x, y, p):\n",
    "    return sum(np.abs(x[i] - y[i]) ** p for i in range(len(x))) ** (1 / p)"
   ]
  },
  {
   "cell_type": "code",
   "execution_count": 7,
   "id": "f2ac13fa-ca22-43b1-9f01-447f59919ade",
   "metadata": {},
   "outputs": [
    {
     "data": {
      "text/plain": [
       "6.153449493663682"
      ]
     },
     "execution_count": 7,
     "metadata": {},
     "output_type": "execute_result"
    }
   ],
   "source": [
    "minkowski(a, b, 3)"
   ]
  },
  {
   "cell_type": "markdown",
   "id": "4fe2dfb7-9e95-4f97-90bb-d08683b7e8a3",
   "metadata": {},
   "source": [
    "# 上确界距离\n",
    "\n",
    "![image-pt](img/pt7.jpg)"
   ]
  },
  {
   "cell_type": "code",
   "execution_count": 8,
   "id": "9c23be15-d642-4e43-8726-de0199bbdcdf",
   "metadata": {},
   "outputs": [],
   "source": [
    "def Supremum(x, y):\n",
    "    return np.abs(max(x) - max(y))"
   ]
  },
  {
   "cell_type": "code",
   "execution_count": 9,
   "id": "f6b29d01-f366-401c-930f-445bc2fb3da3",
   "metadata": {},
   "outputs": [
    {
     "data": {
      "text/plain": [
       "6"
      ]
     },
     "execution_count": 9,
     "metadata": {},
     "output_type": "execute_result"
    }
   ],
   "source": [
    "Supremum(a, b)"
   ]
  }
 ],
 "metadata": {
  "kernelspec": {
   "display_name": "Python 3 (ipykernel)",
   "language": "python",
   "name": "python3"
  },
  "language_info": {
   "codemirror_mode": {
    "name": "ipython",
    "version": 3
   },
   "file_extension": ".py",
   "mimetype": "text/x-python",
   "name": "python",
   "nbconvert_exporter": "python",
   "pygments_lexer": "ipython3",
   "version": "3.8.3"
  }
 },
 "nbformat": 4,
 "nbformat_minor": 5
}
