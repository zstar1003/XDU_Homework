{
 "cells": [
  {
   "cell_type": "markdown",
   "id": "8e028d83-d635-4620-8d02-eb4455be69db",
   "metadata": {},
   "source": [
    "# 作业四\n",
    "要求：天气因素有温度、湿度和刮风等，通过给出数据，使用决策树算法学习分类，输出一个人是运动和不运动与天气之间的规则树。\n",
    "\n",
    "训练集和测试集可以自由定义，另外需要对温度和湿度进行概化，将数值变为概括性表述，比如温度热，温，凉爽，湿度变为高，中。"
   ]
  },
  {
   "cell_type": "code",
   "execution_count": 74,
   "id": "52ec0f89-b480-4ba8-b514-cd8e920cb8af",
   "metadata": {},
   "outputs": [],
   "source": [
    "from sklearn import tree\n",
    "from sklearn.model_selection import train_test_split\n",
    "import pandas as pd\n",
    "import graphviz\n",
    "import numpy as np"
   ]
  },
  {
   "cell_type": "markdown",
   "id": "f5af6b3c-8b84-4c8b-aeca-c480842684b1",
   "metadata": {},
   "source": [
    "# 数据预处理"
   ]
  },
  {
   "cell_type": "markdown",
   "id": "334f6260-fbd6-4c09-b991-663c998643fe",
   "metadata": {},
   "source": [
    "## 数据读取"
   ]
  },
  {
   "cell_type": "code",
   "execution_count": 75,
   "id": "e3787f53-cc0b-46eb-8f8c-69a70b144b55",
   "metadata": {},
   "outputs": [
    {
     "data": {
      "text/html": [
       "<div>\n",
       "<style scoped>\n",
       "    .dataframe tbody tr th:only-of-type {\n",
       "        vertical-align: middle;\n",
       "    }\n",
       "\n",
       "    .dataframe tbody tr th {\n",
       "        vertical-align: top;\n",
       "    }\n",
       "\n",
       "    .dataframe thead th {\n",
       "        text-align: right;\n",
       "    }\n",
       "</style>\n",
       "<table border=\"1\" class=\"dataframe\">\n",
       "  <thead>\n",
       "    <tr style=\"text-align: right;\">\n",
       "      <th></th>\n",
       "      <th>天气</th>\n",
       "      <th>温度</th>\n",
       "      <th>湿度</th>\n",
       "      <th>风况</th>\n",
       "      <th>运动</th>\n",
       "    </tr>\n",
       "  </thead>\n",
       "  <tbody>\n",
       "    <tr>\n",
       "      <th>0</th>\n",
       "      <td>晴</td>\n",
       "      <td>85</td>\n",
       "      <td>85</td>\n",
       "      <td>无</td>\n",
       "      <td>不适合</td>\n",
       "    </tr>\n",
       "    <tr>\n",
       "      <th>1</th>\n",
       "      <td>晴</td>\n",
       "      <td>80</td>\n",
       "      <td>90</td>\n",
       "      <td>有</td>\n",
       "      <td>不适合</td>\n",
       "    </tr>\n",
       "    <tr>\n",
       "      <th>2</th>\n",
       "      <td>多云</td>\n",
       "      <td>83</td>\n",
       "      <td>78</td>\n",
       "      <td>无</td>\n",
       "      <td>适合</td>\n",
       "    </tr>\n",
       "    <tr>\n",
       "      <th>3</th>\n",
       "      <td>有雨</td>\n",
       "      <td>70</td>\n",
       "      <td>96</td>\n",
       "      <td>无</td>\n",
       "      <td>适合</td>\n",
       "    </tr>\n",
       "    <tr>\n",
       "      <th>4</th>\n",
       "      <td>有雨</td>\n",
       "      <td>68</td>\n",
       "      <td>80</td>\n",
       "      <td>无</td>\n",
       "      <td>适合</td>\n",
       "    </tr>\n",
       "    <tr>\n",
       "      <th>5</th>\n",
       "      <td>有雨</td>\n",
       "      <td>65</td>\n",
       "      <td>70</td>\n",
       "      <td>有</td>\n",
       "      <td>不适合</td>\n",
       "    </tr>\n",
       "    <tr>\n",
       "      <th>6</th>\n",
       "      <td>多云</td>\n",
       "      <td>64</td>\n",
       "      <td>65</td>\n",
       "      <td>有</td>\n",
       "      <td>适合</td>\n",
       "    </tr>\n",
       "    <tr>\n",
       "      <th>7</th>\n",
       "      <td>晴</td>\n",
       "      <td>72</td>\n",
       "      <td>95</td>\n",
       "      <td>无</td>\n",
       "      <td>不适合</td>\n",
       "    </tr>\n",
       "    <tr>\n",
       "      <th>8</th>\n",
       "      <td>晴</td>\n",
       "      <td>69</td>\n",
       "      <td>70</td>\n",
       "      <td>无</td>\n",
       "      <td>适合</td>\n",
       "    </tr>\n",
       "    <tr>\n",
       "      <th>9</th>\n",
       "      <td>有雨</td>\n",
       "      <td>75</td>\n",
       "      <td>80</td>\n",
       "      <td>无</td>\n",
       "      <td>适合</td>\n",
       "    </tr>\n",
       "    <tr>\n",
       "      <th>10</th>\n",
       "      <td>晴</td>\n",
       "      <td>75</td>\n",
       "      <td>70</td>\n",
       "      <td>有</td>\n",
       "      <td>适合</td>\n",
       "    </tr>\n",
       "    <tr>\n",
       "      <th>11</th>\n",
       "      <td>多云</td>\n",
       "      <td>72</td>\n",
       "      <td>90</td>\n",
       "      <td>有</td>\n",
       "      <td>适合</td>\n",
       "    </tr>\n",
       "    <tr>\n",
       "      <th>12</th>\n",
       "      <td>多云</td>\n",
       "      <td>81</td>\n",
       "      <td>75</td>\n",
       "      <td>无</td>\n",
       "      <td>适合</td>\n",
       "    </tr>\n",
       "    <tr>\n",
       "      <th>13</th>\n",
       "      <td>有雨</td>\n",
       "      <td>71</td>\n",
       "      <td>80</td>\n",
       "      <td>有</td>\n",
       "      <td>不适合</td>\n",
       "    </tr>\n",
       "  </tbody>\n",
       "</table>\n",
       "</div>"
      ],
      "text/plain": [
       "    天气  温度  湿度 风况   运动\n",
       "0    晴  85  85  无  不适合\n",
       "1    晴  80  90  有  不适合\n",
       "2   多云  83  78  无   适合\n",
       "3   有雨  70  96  无   适合\n",
       "4   有雨  68  80  无   适合\n",
       "5   有雨  65  70  有  不适合\n",
       "6   多云  64  65  有   适合\n",
       "7    晴  72  95  无  不适合\n",
       "8    晴  69  70  无   适合\n",
       "9   有雨  75  80  无   适合\n",
       "10   晴  75  70  有   适合\n",
       "11  多云  72  90  有   适合\n",
       "12  多云  81  75  无   适合\n",
       "13  有雨  71  80  有  不适合"
      ]
     },
     "execution_count": 75,
     "metadata": {},
     "output_type": "execute_result"
    }
   ],
   "source": [
    "df = pd.read_excel('data.xlsx', index_col=None)\n",
    "df"
   ]
  },
  {
   "cell_type": "markdown",
   "id": "b07620ad-c119-4f43-94fe-576e34469a11",
   "metadata": {},
   "source": [
    "## 文字指标量化\n",
    "为了后续决策树的计算，需要把文字指标进行量化，下面进行转换：\n",
    "\n",
    "天气——晴-0，多元-1，有雨-2\n",
    "\n",
    "风况——无-0，有-1\n",
    "\n",
    "运动——不适合-0，适合-1"
   ]
  },
  {
   "cell_type": "code",
   "execution_count": 76,
   "id": "73f0fd13-3fc3-4dd4-8d4a-a98f7c86af87",
   "metadata": {},
   "outputs": [],
   "source": [
    "df['天气'] = df['天气'].replace(\"晴\", 0)\n",
    "df['天气'] = df['天气'].replace(\"多云\", 1)\n",
    "df['天气'] = df['天气'].replace(\"有雨\", 2)\n",
    "df['风况'] = df['风况'].replace(\"无\", 0)\n",
    "df['风况'] = df['风况'].replace(\"有\", 1)\n",
    "df['运动'] = df['运动'].replace(\"不适合\", 0)\n",
    "df['运动'] = df['运动'].replace(\"适合\", 1)"
   ]
  },
  {
   "cell_type": "markdown",
   "id": "f63f8828-7e94-4f9a-a32c-c71cf9614360",
   "metadata": {},
   "source": [
    "## 温湿度概化\n",
    "题目要求，将温湿度数值变为概括性表述。这里将温湿度进行概述并转化为数值，具体规则如下：\n",
    "\n",
    "温度：<70-凉爽-0，70~80-温-1，>80-热-2\n",
    "\n",
    "湿度：>80-高-1，<=80-中-0"
   ]
  },
  {
   "cell_type": "code",
   "execution_count": 77,
   "id": "d783c5ce-6458-4339-9ce0-0f52490c9128",
   "metadata": {},
   "outputs": [],
   "source": [
    "df['温度'] = np.where(df['温度'] < 70, 0, df['温度'])\n",
    "df['温度'] = np.where((df['温度'] < 80) & (df['温度'] >= 70), 1, df['温度'])\n",
    "df['温度'] = np.where(df['温度'] >= 80, 2, df['温度'])\n",
    "df['湿度'] = np.where(df['湿度'] > 80, 1, 0)"
   ]
  },
  {
   "cell_type": "markdown",
   "id": "220e45ea-14f7-48d6-b6c1-485ed8f6a185",
   "metadata": {},
   "source": [
    "转换后的数据如下表所示："
   ]
  },
  {
   "cell_type": "code",
   "execution_count": 78,
   "id": "890ac63c-050d-4099-860c-db7ba153b211",
   "metadata": {},
   "outputs": [
    {
     "data": {
      "text/html": [
       "<div>\n",
       "<style scoped>\n",
       "    .dataframe tbody tr th:only-of-type {\n",
       "        vertical-align: middle;\n",
       "    }\n",
       "\n",
       "    .dataframe tbody tr th {\n",
       "        vertical-align: top;\n",
       "    }\n",
       "\n",
       "    .dataframe thead th {\n",
       "        text-align: right;\n",
       "    }\n",
       "</style>\n",
       "<table border=\"1\" class=\"dataframe\">\n",
       "  <thead>\n",
       "    <tr style=\"text-align: right;\">\n",
       "      <th></th>\n",
       "      <th>天气</th>\n",
       "      <th>温度</th>\n",
       "      <th>湿度</th>\n",
       "      <th>风况</th>\n",
       "      <th>运动</th>\n",
       "    </tr>\n",
       "  </thead>\n",
       "  <tbody>\n",
       "    <tr>\n",
       "      <th>0</th>\n",
       "      <td>0</td>\n",
       "      <td>2</td>\n",
       "      <td>1</td>\n",
       "      <td>0</td>\n",
       "      <td>0</td>\n",
       "    </tr>\n",
       "    <tr>\n",
       "      <th>1</th>\n",
       "      <td>0</td>\n",
       "      <td>2</td>\n",
       "      <td>1</td>\n",
       "      <td>1</td>\n",
       "      <td>0</td>\n",
       "    </tr>\n",
       "    <tr>\n",
       "      <th>2</th>\n",
       "      <td>1</td>\n",
       "      <td>2</td>\n",
       "      <td>0</td>\n",
       "      <td>0</td>\n",
       "      <td>1</td>\n",
       "    </tr>\n",
       "    <tr>\n",
       "      <th>3</th>\n",
       "      <td>2</td>\n",
       "      <td>1</td>\n",
       "      <td>1</td>\n",
       "      <td>0</td>\n",
       "      <td>1</td>\n",
       "    </tr>\n",
       "    <tr>\n",
       "      <th>4</th>\n",
       "      <td>2</td>\n",
       "      <td>0</td>\n",
       "      <td>0</td>\n",
       "      <td>0</td>\n",
       "      <td>1</td>\n",
       "    </tr>\n",
       "    <tr>\n",
       "      <th>5</th>\n",
       "      <td>2</td>\n",
       "      <td>0</td>\n",
       "      <td>0</td>\n",
       "      <td>1</td>\n",
       "      <td>0</td>\n",
       "    </tr>\n",
       "    <tr>\n",
       "      <th>6</th>\n",
       "      <td>1</td>\n",
       "      <td>0</td>\n",
       "      <td>0</td>\n",
       "      <td>1</td>\n",
       "      <td>1</td>\n",
       "    </tr>\n",
       "    <tr>\n",
       "      <th>7</th>\n",
       "      <td>0</td>\n",
       "      <td>1</td>\n",
       "      <td>1</td>\n",
       "      <td>0</td>\n",
       "      <td>0</td>\n",
       "    </tr>\n",
       "    <tr>\n",
       "      <th>8</th>\n",
       "      <td>0</td>\n",
       "      <td>0</td>\n",
       "      <td>0</td>\n",
       "      <td>0</td>\n",
       "      <td>1</td>\n",
       "    </tr>\n",
       "    <tr>\n",
       "      <th>9</th>\n",
       "      <td>2</td>\n",
       "      <td>1</td>\n",
       "      <td>0</td>\n",
       "      <td>0</td>\n",
       "      <td>1</td>\n",
       "    </tr>\n",
       "    <tr>\n",
       "      <th>10</th>\n",
       "      <td>0</td>\n",
       "      <td>1</td>\n",
       "      <td>0</td>\n",
       "      <td>1</td>\n",
       "      <td>1</td>\n",
       "    </tr>\n",
       "    <tr>\n",
       "      <th>11</th>\n",
       "      <td>1</td>\n",
       "      <td>1</td>\n",
       "      <td>1</td>\n",
       "      <td>1</td>\n",
       "      <td>1</td>\n",
       "    </tr>\n",
       "    <tr>\n",
       "      <th>12</th>\n",
       "      <td>1</td>\n",
       "      <td>2</td>\n",
       "      <td>0</td>\n",
       "      <td>0</td>\n",
       "      <td>1</td>\n",
       "    </tr>\n",
       "    <tr>\n",
       "      <th>13</th>\n",
       "      <td>2</td>\n",
       "      <td>1</td>\n",
       "      <td>0</td>\n",
       "      <td>1</td>\n",
       "      <td>0</td>\n",
       "    </tr>\n",
       "  </tbody>\n",
       "</table>\n",
       "</div>"
      ],
      "text/plain": [
       "    天气  温度  湿度  风况  运动\n",
       "0    0   2   1   0   0\n",
       "1    0   2   1   1   0\n",
       "2    1   2   0   0   1\n",
       "3    2   1   1   0   1\n",
       "4    2   0   0   0   1\n",
       "5    2   0   0   1   0\n",
       "6    1   0   0   1   1\n",
       "7    0   1   1   0   0\n",
       "8    0   0   0   0   1\n",
       "9    2   1   0   0   1\n",
       "10   0   1   0   1   1\n",
       "11   1   1   1   1   1\n",
       "12   1   2   0   0   1\n",
       "13   2   1   0   1   0"
      ]
     },
     "execution_count": 78,
     "metadata": {},
     "output_type": "execute_result"
    }
   ],
   "source": [
    "df"
   ]
  },
  {
   "cell_type": "markdown",
   "id": "205a24ff-c80c-46eb-aa30-f8ec48e0e423",
   "metadata": {},
   "source": [
    "# 数据集划分\n",
    "根据7/3的比例划分训练集和测试集"
   ]
  },
  {
   "cell_type": "code",
   "execution_count": 128,
   "id": "f9990fe2-e510-4606-b4e5-84ac9e5e7af5",
   "metadata": {},
   "outputs": [],
   "source": [
    "data = df[['天气', '温度', '湿度', '风况']]\n",
    "target = df['运动']\n",
    "data = np.array(data)\n",
    "target = np.array(target)\n",
    "Xtrain, Xtest, Ytrain, Ytest = train_test_split(data, target, test_size=0.3)"
   ]
  },
  {
   "cell_type": "markdown",
   "id": "df9a0a5a-d975-4fab-b077-d8433fc4be56",
   "metadata": {},
   "source": [
    "# 决策树构建\n",
    "这里决策树的标准选择基尼指数，最终得到分类准确率为60%"
   ]
  },
  {
   "cell_type": "code",
   "execution_count": 129,
   "id": "2d0c39b7-e944-4ed5-88e3-95f0cf16c94c",
   "metadata": {},
   "outputs": [
    {
     "name": "stdout",
     "output_type": "stream",
     "text": [
      "0.6\n"
     ]
    }
   ],
   "source": [
    "clf = tree.DecisionTreeClassifier(criterion=\"gini\")\n",
    "clf = clf.fit(Xtrain, Ytrain)\n",
    "score = clf.score(Xtest, Ytest)\n",
    "print(score)"
   ]
  },
  {
   "cell_type": "markdown",
   "id": "0e19551a-e831-41a2-a2df-24a8be6a481f",
   "metadata": {},
   "source": [
    "# 可视化结果"
   ]
  },
  {
   "cell_type": "code",
   "execution_count": 130,
   "id": "b1e7412b-631a-4171-9d4d-a6d139c51ece",
   "metadata": {},
   "outputs": [
    {
     "data": {
      "text/plain": [
       "'Source.gv.pdf'"
      ]
     },
     "execution_count": 130,
     "metadata": {},
     "output_type": "execute_result"
    }
   ],
   "source": [
    "feature_name = ['天气', '温度', '湿度', '风况']\n",
    "dot_data = tree.export_graphviz(clf, feature_names=feature_name, class_names=[\"不适合\", \"适合\"], filled=True, rounded=True\n",
    "                                )\n",
    "graph = graphviz.Source(dot_data.replace(\n",
    "    'helvetica', '\"Microsoft YaHei\"'), encoding='utf-8')\n",
    "graph.view()"
   ]
  }
 ],
 "metadata": {
  "kernelspec": {
   "display_name": "Python 3 (ipykernel)",
   "language": "python",
   "name": "python3"
  },
  "language_info": {
   "codemirror_mode": {
    "name": "ipython",
    "version": 3
   },
   "file_extension": ".py",
   "mimetype": "text/x-python",
   "name": "python",
   "nbconvert_exporter": "python",
   "pygments_lexer": "ipython3",
   "version": "3.8.3"
  }
 },
 "nbformat": 4,
 "nbformat_minor": 5
}
