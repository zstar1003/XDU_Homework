{
 "cells": [
  {
   "cell_type": "markdown",
   "id": "931cf549-0f6d-43fa-85e4-1a1312c3abe6",
   "metadata": {},
   "source": [
    "# 题目要求\n",
    "本次任务的目的是处理PO2，PCO2两个指标。这两个指标均为病人的血气指标，以一定的时间间隔采集。一个病人一次住院期间可能收集一次或者多次。要求，按照采集时间的前后顺序，汇总每个病人每次住院期间的所有的pO2, pCO2指标值。涉及到的预处理方法包括插值，去噪，缺失值填充，离群点数据处理，可视化等。"
   ]
  },
  {
   "cell_type": "markdown",
   "id": "3f12e5b6-b00c-4608-9580-d7925b18bd8a",
   "metadata": {
    "tags": []
   },
   "source": [
    "# 数据集说明\n",
    "patients:包含所有患者数据。\n",
    "\n",
    "chart_events：包含了所有可供患者使用的图表数据。在他们的ICU停留期间，病人信息的主要存储库是他们的电子图表。电子图表显示病人的日常生命体征和与他们的护理有关的任何额外信息：呼吸机设置、实验室值、代码状态、精神状态等等。因此，关于病人住院的大部分信息都包含在chartevent中。此外，即使在其他地方捕获了实验室值（labevent），它们也经常在chartevent中重复。这是因为在病人的电子图上显示实验室值是可取的，因此这些值是从存储实验室值的数据库复制到存储chartevent的数据库中。当labevent中的值与chartevent中的值不同时，以labevent中的值为准。\n",
    "\n",
    "label_events：实验检查信息表，主要是患者的实验室检测记录信息\n"
   ]
  },
  {
   "cell_type": "markdown",
   "id": "c738b255-e402-4d1d-b1a9-17e6ed3e1559",
   "metadata": {},
   "source": [
    "# 导库"
   ]
  },
  {
   "cell_type": "code",
   "execution_count": 1,
   "id": "767665ea-adb6-4ffa-ba5e-4cd79967c00e",
   "metadata": {},
   "outputs": [],
   "source": [
    "import pandas as pd\n",
    "import numpy as np\n",
    "import matplotlib.pyplot as plt\n",
    "import seaborn as sns"
   ]
  },
  {
   "cell_type": "markdown",
   "id": "eb5190fb-0c11-48b6-a621-8c30f7aede0f",
   "metadata": {},
   "source": [
    "# 基本设置"
   ]
  },
  {
   "cell_type": "code",
   "execution_count": 2,
   "id": "5adaa87b-503f-4c3e-8ab1-69e5e4ca799d",
   "metadata": {},
   "outputs": [],
   "source": [
    "# 设置可视化风格\n",
    "plt.style.use('tableau-colorblind10')\n",
    "# 设置字体为SimHei(黑体)\n",
    "plt.rcParams['font.sans-serif'] = ['SimHei']\n",
    "# 解决中文字体下坐标轴负数的负号显示问题\n",
    "plt.rcParams['axes.unicode_minus'] = False"
   ]
  },
  {
   "cell_type": "markdown",
   "id": "847f91e8-0516-43cd-962a-01ea68061f10",
   "metadata": {},
   "source": [
    "# 数据提取"
   ]
  },
  {
   "cell_type": "markdown",
   "id": "1b972736-bead-49f5-b3f4-6b9f31920907",
   "metadata": {},
   "source": [
    "## 提取LABEVENTS表格中PO2和PCO2数据"
   ]
  },
  {
   "cell_type": "code",
   "execution_count": 3,
   "id": "ae3176a7-64dc-4fc6-b287-c00370e2778e",
   "metadata": {},
   "outputs": [],
   "source": [
    "# 根据采集时间来读取数据\n",
    "df = pd.read_csv('mini_label_events.csv', index_col='CHARTTIME')"
   ]
  },
  {
   "cell_type": "code",
   "execution_count": 4,
   "id": "adbae044-ec98-4679-9eeb-d611c50f6bd1",
   "metadata": {},
   "outputs": [],
   "source": [
    "# 筛选出po2和pco2数据\n",
    "po2 = df.query('ITEMID==490 | ITEMID==3785 | ITEMID==3837 | ITEMID==50821')\n",
    "pco2 = df.query('ITEMID==3784 | ITEMID==3835 | ITEMID==50818')"
   ]
  },
  {
   "cell_type": "code",
   "execution_count": 5,
   "id": "b9126b13-c409-418f-888e-fc46509f7ded",
   "metadata": {
    "tags": []
   },
   "outputs": [],
   "source": [
    "# 创建DateFrame来存储数据\n",
    "a1 = pd.DataFrame()\n",
    "a1[\"PO2\"] = po2[\"VALUENUM\"]\n",
    "a1[\"PCO2\"] = pco2[\"VALUENUM\"]\n",
    "a1[\"SUBJECT_ID\"] = po2[\"SUBJECT_ID\"]\n",
    "a1[\"HADM_ID1\"] = po2[\"HADM_ID\"]\n",
    "a1['采集时间'] = a1.index"
   ]
  },
  {
   "cell_type": "code",
   "execution_count": 6,
   "id": "c00d45f4-0c3d-4b14-a155-97252092286b",
   "metadata": {},
   "outputs": [
    {
     "data": {
      "text/html": [
       "<div>\n",
       "<style scoped>\n",
       "    .dataframe tbody tr th:only-of-type {\n",
       "        vertical-align: middle;\n",
       "    }\n",
       "\n",
       "    .dataframe tbody tr th {\n",
       "        vertical-align: top;\n",
       "    }\n",
       "\n",
       "    .dataframe thead th {\n",
       "        text-align: right;\n",
       "    }\n",
       "</style>\n",
       "<table border=\"1\" class=\"dataframe\">\n",
       "  <thead>\n",
       "    <tr style=\"text-align: right;\">\n",
       "      <th></th>\n",
       "      <th>PO2</th>\n",
       "      <th>PCO2</th>\n",
       "      <th>SUBJECT_ID</th>\n",
       "      <th>HADM_ID1</th>\n",
       "      <th>采集时间</th>\n",
       "    </tr>\n",
       "    <tr>\n",
       "      <th>序号</th>\n",
       "      <th></th>\n",
       "      <th></th>\n",
       "      <th></th>\n",
       "      <th></th>\n",
       "      <th></th>\n",
       "    </tr>\n",
       "  </thead>\n",
       "  <tbody>\n",
       "    <tr>\n",
       "      <th>1</th>\n",
       "      <td>186.0</td>\n",
       "      <td>32.0</td>\n",
       "      <td>60207</td>\n",
       "      <td>164814.0</td>\n",
       "      <td>2101-07-19 14:56:00</td>\n",
       "    </tr>\n",
       "    <tr>\n",
       "      <th>2</th>\n",
       "      <td>173.0</td>\n",
       "      <td>33.0</td>\n",
       "      <td>60207</td>\n",
       "      <td>164814.0</td>\n",
       "      <td>2101-07-19 22:07:00</td>\n",
       "    </tr>\n",
       "    <tr>\n",
       "      <th>3</th>\n",
       "      <td>194.0</td>\n",
       "      <td>29.0</td>\n",
       "      <td>60207</td>\n",
       "      <td>164814.0</td>\n",
       "      <td>2101-07-20 05:29:00</td>\n",
       "    </tr>\n",
       "    <tr>\n",
       "      <th>4</th>\n",
       "      <td>239.0</td>\n",
       "      <td>37.0</td>\n",
       "      <td>1205</td>\n",
       "      <td>152970.0</td>\n",
       "      <td>2101-12-20 09:03:00</td>\n",
       "    </tr>\n",
       "    <tr>\n",
       "      <th>5</th>\n",
       "      <td>129.0</td>\n",
       "      <td>40.0</td>\n",
       "      <td>1205</td>\n",
       "      <td>152970.0</td>\n",
       "      <td>2101-12-20 11:33:00</td>\n",
       "    </tr>\n",
       "    <tr>\n",
       "      <th>...</th>\n",
       "      <td>...</td>\n",
       "      <td>...</td>\n",
       "      <td>...</td>\n",
       "      <td>...</td>\n",
       "      <td>...</td>\n",
       "    </tr>\n",
       "    <tr>\n",
       "      <th>4669</th>\n",
       "      <td>88.0</td>\n",
       "      <td>28.0</td>\n",
       "      <td>24851</td>\n",
       "      <td>111571.0</td>\n",
       "      <td>2199-01-25 09:41:00</td>\n",
       "    </tr>\n",
       "    <tr>\n",
       "      <th>4670</th>\n",
       "      <td>35.0</td>\n",
       "      <td>41.0</td>\n",
       "      <td>24851</td>\n",
       "      <td>111571.0</td>\n",
       "      <td>2199-01-30 05:08:00</td>\n",
       "    </tr>\n",
       "    <tr>\n",
       "      <th>4671</th>\n",
       "      <td>65.0</td>\n",
       "      <td>36.0</td>\n",
       "      <td>23765</td>\n",
       "      <td>193447.0</td>\n",
       "      <td>2200-05-08 19:52:00</td>\n",
       "    </tr>\n",
       "    <tr>\n",
       "      <th>4672</th>\n",
       "      <td>89.0</td>\n",
       "      <td>32.0</td>\n",
       "      <td>23765</td>\n",
       "      <td>193447.0</td>\n",
       "      <td>2200-05-09 02:24:00</td>\n",
       "    </tr>\n",
       "    <tr>\n",
       "      <th>4673</th>\n",
       "      <td>38.0</td>\n",
       "      <td>44.0</td>\n",
       "      <td>70646</td>\n",
       "      <td>NaN</td>\n",
       "      <td>2201-01-25 12:23:00</td>\n",
       "    </tr>\n",
       "  </tbody>\n",
       "</table>\n",
       "<p>4673 rows × 5 columns</p>\n",
       "</div>"
      ],
      "text/plain": [
       "        PO2  PCO2  SUBJECT_ID  HADM_ID1                 采集时间\n",
       "序号                                                          \n",
       "1     186.0  32.0       60207  164814.0  2101-07-19 14:56:00\n",
       "2     173.0  33.0       60207  164814.0  2101-07-19 22:07:00\n",
       "3     194.0  29.0       60207  164814.0  2101-07-20 05:29:00\n",
       "4     239.0  37.0        1205  152970.0  2101-12-20 09:03:00\n",
       "5     129.0  40.0        1205  152970.0  2101-12-20 11:33:00\n",
       "...     ...   ...         ...       ...                  ...\n",
       "4669   88.0  28.0       24851  111571.0  2199-01-25 09:41:00\n",
       "4670   35.0  41.0       24851  111571.0  2199-01-30 05:08:00\n",
       "4671   65.0  36.0       23765  193447.0  2200-05-08 19:52:00\n",
       "4672   89.0  32.0       23765  193447.0  2200-05-09 02:24:00\n",
       "4673   38.0  44.0       70646       NaN  2201-01-25 12:23:00\n",
       "\n",
       "[4673 rows x 5 columns]"
      ]
     },
     "execution_count": 6,
     "metadata": {},
     "output_type": "execute_result"
    }
   ],
   "source": [
    "# 重置索引\n",
    "a1.reset_index()\n",
    "# 根据采集时间从早到晚进行排序\n",
    "a1.sort_values(\"CHARTTIME\", inplace=True)\n",
    "# 插入序号并设为索引\n",
    "a1.insert(0, '序号', range(1, 1 + len(a1)))\n",
    "a1.set_index('序号', inplace=True)\n",
    "a1"
   ]
  },
  {
   "cell_type": "markdown",
   "id": "11615d41-f6b8-4960-9191-fa4de3bd306d",
   "metadata": {},
   "source": [
    "## 提取CHARTEVENTS表格中PO2和PCO2数据"
   ]
  },
  {
   "cell_type": "code",
   "execution_count": 7,
   "id": "aebcbb09-e56c-4314-be36-ff370da5ed8a",
   "metadata": {},
   "outputs": [],
   "source": [
    "df2 = pd.read_csv('mini_chart_events.csv',\n",
    "                  low_memory=False, index_col=\"CHARTTIME\")"
   ]
  },
  {
   "cell_type": "code",
   "execution_count": 8,
   "id": "b3c5cad0-4950-47df-89a0-134982ad8c91",
   "metadata": {},
   "outputs": [],
   "source": [
    "# 筛选出po2和pco2数据\n",
    "po2 = df2.query('ITEMID==490 | ITEMID==3785 | ITEMID==3837 | ITEMID==50821')\n",
    "pco2 = df2.query('ITEMID==3784 | ITEMID==3835 | ITEMID==50818')\n",
    "# 这里存在重复时间索引，删除前面一个，保留最后一个\n",
    "po2 = po2.reset_index().drop_duplicates(\n",
    "    subset='CHARTTIME', keep='last').set_index('CHARTTIME')\n",
    "pco2 = pco2.reset_index().drop_duplicates(\n",
    "    subset='CHARTTIME', keep='last').set_index('CHARTTIME')"
   ]
  },
  {
   "cell_type": "code",
   "execution_count": 9,
   "id": "e285a4ba-f7ee-4a8d-a130-c9a678573fd8",
   "metadata": {},
   "outputs": [],
   "source": [
    "# 创建DateFrame来存储数据\n",
    "a2 = pd.DataFrame()\n",
    "a2[\"PO2\"] = po2[\"VALUENUM\"]\n",
    "a2[\"PCO2\"] = pco2[\"VALUENUM\"]\n",
    "a2[\"SUBJECT_ID\"] = po2[\"SUBJECT_ID\"]\n",
    "a2[\"HADM_ID1\"] = po2[\"HADM_ID\"]\n",
    "a2['采集时间'] = a2.index"
   ]
  },
  {
   "cell_type": "code",
   "execution_count": 10,
   "id": "ed48cbd0-923e-4c25-9056-5474167487b5",
   "metadata": {},
   "outputs": [
    {
     "data": {
      "text/html": [
       "<div>\n",
       "<style scoped>\n",
       "    .dataframe tbody tr th:only-of-type {\n",
       "        vertical-align: middle;\n",
       "    }\n",
       "\n",
       "    .dataframe tbody tr th {\n",
       "        vertical-align: top;\n",
       "    }\n",
       "\n",
       "    .dataframe thead th {\n",
       "        text-align: right;\n",
       "    }\n",
       "</style>\n",
       "<table border=\"1\" class=\"dataframe\">\n",
       "  <thead>\n",
       "    <tr style=\"text-align: right;\">\n",
       "      <th></th>\n",
       "      <th>PO2</th>\n",
       "      <th>PCO2</th>\n",
       "      <th>SUBJECT_ID</th>\n",
       "      <th>HADM_ID1</th>\n",
       "      <th>采集时间</th>\n",
       "    </tr>\n",
       "    <tr>\n",
       "      <th>序号</th>\n",
       "      <th></th>\n",
       "      <th></th>\n",
       "      <th></th>\n",
       "      <th></th>\n",
       "      <th></th>\n",
       "    </tr>\n",
       "  </thead>\n",
       "  <tbody>\n",
       "    <tr>\n",
       "      <th>1</th>\n",
       "      <td>NaN</td>\n",
       "      <td>NaN</td>\n",
       "      <td>13081</td>\n",
       "      <td>120737</td>\n",
       "      <td>2102-01-11 06:00:00</td>\n",
       "    </tr>\n",
       "    <tr>\n",
       "      <th>2</th>\n",
       "      <td>257.200012</td>\n",
       "      <td>NaN</td>\n",
       "      <td>32476</td>\n",
       "      <td>119862</td>\n",
       "      <td>2109-05-30 18:59:00</td>\n",
       "    </tr>\n",
       "    <tr>\n",
       "      <th>3</th>\n",
       "      <td>54.000000</td>\n",
       "      <td>47.0</td>\n",
       "      <td>30712</td>\n",
       "      <td>167392</td>\n",
       "      <td>2111-02-22 19:23:00</td>\n",
       "    </tr>\n",
       "    <tr>\n",
       "      <th>4</th>\n",
       "      <td>68.000000</td>\n",
       "      <td>47.0</td>\n",
       "      <td>30712</td>\n",
       "      <td>167392</td>\n",
       "      <td>2111-02-22 23:32:00</td>\n",
       "    </tr>\n",
       "    <tr>\n",
       "      <th>5</th>\n",
       "      <td>42.000000</td>\n",
       "      <td>42.0</td>\n",
       "      <td>30712</td>\n",
       "      <td>167392</td>\n",
       "      <td>2111-02-23 06:23:00</td>\n",
       "    </tr>\n",
       "    <tr>\n",
       "      <th>...</th>\n",
       "      <td>...</td>\n",
       "      <td>...</td>\n",
       "      <td>...</td>\n",
       "      <td>...</td>\n",
       "      <td>...</td>\n",
       "    </tr>\n",
       "    <tr>\n",
       "      <th>132</th>\n",
       "      <td>49.000000</td>\n",
       "      <td>39.0</td>\n",
       "      <td>9557</td>\n",
       "      <td>178366</td>\n",
       "      <td>2195-08-07 12:00:00</td>\n",
       "    </tr>\n",
       "    <tr>\n",
       "      <th>133</th>\n",
       "      <td>NaN</td>\n",
       "      <td>NaN</td>\n",
       "      <td>9557</td>\n",
       "      <td>178366</td>\n",
       "      <td>2195-08-10 12:00:00</td>\n",
       "    </tr>\n",
       "    <tr>\n",
       "      <th>134</th>\n",
       "      <td>228.199997</td>\n",
       "      <td>NaN</td>\n",
       "      <td>12183</td>\n",
       "      <td>180744</td>\n",
       "      <td>2197-06-03 03:00:00</td>\n",
       "    </tr>\n",
       "    <tr>\n",
       "      <th>135</th>\n",
       "      <td>65.000000</td>\n",
       "      <td>36.0</td>\n",
       "      <td>23765</td>\n",
       "      <td>193447</td>\n",
       "      <td>2200-05-08 19:52:00</td>\n",
       "    </tr>\n",
       "    <tr>\n",
       "      <th>136</th>\n",
       "      <td>NaN</td>\n",
       "      <td>NaN</td>\n",
       "      <td>23765</td>\n",
       "      <td>193447</td>\n",
       "      <td>2200-05-16 02:00:00</td>\n",
       "    </tr>\n",
       "  </tbody>\n",
       "</table>\n",
       "<p>136 rows × 5 columns</p>\n",
       "</div>"
      ],
      "text/plain": [
       "            PO2  PCO2  SUBJECT_ID  HADM_ID1                 采集时间\n",
       "序号                                                              \n",
       "1           NaN   NaN       13081    120737  2102-01-11 06:00:00\n",
       "2    257.200012   NaN       32476    119862  2109-05-30 18:59:00\n",
       "3     54.000000  47.0       30712    167392  2111-02-22 19:23:00\n",
       "4     68.000000  47.0       30712    167392  2111-02-22 23:32:00\n",
       "5     42.000000  42.0       30712    167392  2111-02-23 06:23:00\n",
       "..          ...   ...         ...       ...                  ...\n",
       "132   49.000000  39.0        9557    178366  2195-08-07 12:00:00\n",
       "133         NaN   NaN        9557    178366  2195-08-10 12:00:00\n",
       "134  228.199997   NaN       12183    180744  2197-06-03 03:00:00\n",
       "135   65.000000  36.0       23765    193447  2200-05-08 19:52:00\n",
       "136         NaN   NaN       23765    193447  2200-05-16 02:00:00\n",
       "\n",
       "[136 rows x 5 columns]"
      ]
     },
     "execution_count": 10,
     "metadata": {},
     "output_type": "execute_result"
    }
   ],
   "source": [
    "# 重置索引\n",
    "a2.reset_index()\n",
    "# 根据采集时间从早到晚进行排序\n",
    "a2.sort_values(\"CHARTTIME\", inplace=True)\n",
    "# 插入序号并设为索引\n",
    "a2.insert(0, '序号', range(1, 1 + len(a2)))\n",
    "a2.set_index('序号', inplace=True)\n",
    "a2"
   ]
  },
  {
   "cell_type": "markdown",
   "id": "5015e113-2697-4124-a7fd-bd8ad3c10586",
   "metadata": {},
   "source": [
    "# 最小采集时间的间隔"
   ]
  },
  {
   "cell_type": "code",
   "execution_count": 11,
   "id": "d33d2b1c-578f-4fe6-92ad-f4db16f92295",
   "metadata": {},
   "outputs": [],
   "source": [
    "# 根据病人ID和不同住院时间的ID进行分组\n",
    "group = a1.groupby([\"SUBJECT_ID\", \"HADM_ID1\"])"
   ]
  },
  {
   "cell_type": "code",
   "execution_count": 12,
   "id": "e008f70d-f781-4913-8946-c8a135bc680f",
   "metadata": {},
   "outputs": [],
   "source": [
    "# 提取采集时间大于1的组别(只有2个时间以上才能求间隔)\n",
    "tem_list = []\n",
    "for key, item in group['采集时间']:\n",
    "    if item.count() > 1:\n",
    "        tem_list.append(item)"
   ]
  },
  {
   "cell_type": "code",
   "execution_count": 13,
   "id": "c91a3e9a-b8a6-4d1b-8dd3-70f420898bad",
   "metadata": {},
   "outputs": [],
   "source": [
    "# 提取各组的所有采集时间间隔\n",
    "interval_list = []\n",
    "for i in range(len(tem_list)):\n",
    "    tem_list[i].sort_values(ascending=False, inplace=True)  # 对采集时间进行从大到小的排序\n",
    "    for j in range(tem_list[i].count() - 1):\n",
    "        interval = pd.to_datetime(\n",
    "            tem_list[i].iloc[j]) - pd.to_datetime(tem_list[i].iloc[j+1])\n",
    "        interval_list.append(interval)"
   ]
  },
  {
   "cell_type": "code",
   "execution_count": 14,
   "id": "5f861b6b-8e1d-4441-bd44-c7c74b42ddca",
   "metadata": {},
   "outputs": [
    {
     "data": {
      "text/plain": [
       "Timedelta('0 days 00:01:00')"
      ]
     },
     "execution_count": 14,
     "metadata": {},
     "output_type": "execute_result"
    }
   ],
   "source": [
    "# 选取最小的时间间隔\n",
    "min(interval_list)"
   ]
  },
  {
   "cell_type": "markdown",
   "id": "2cb3f9f1-63a8-45d9-9dc6-e25ba4469acb",
   "metadata": {},
   "source": [
    "可以发现，最小的采集时间间隔为1分钟，下面就利用该时间来进行插值"
   ]
  },
  {
   "cell_type": "markdown",
   "id": "4810813e-0f37-4c32-9835-171e22782b68",
   "metadata": {},
   "source": [
    "# 插值\n",
    "pandas 插值核心函数为interpolate()\n",
    "\n",
    "可选的插值方式有：\n",
    "\n",
    "nearest：最邻近插值法\n",
    "\n",
    "zero：阶梯插值\n",
    "\n",
    "slinear、linear：线性插值\n",
    "\n",
    "quadratic、cubic：2、3阶B样条曲线插值"
   ]
  },
  {
   "cell_type": "markdown",
   "id": "d8490d3c-e920-4f99-99cb-be5df839392b",
   "metadata": {},
   "source": [
    "## 对LABEVENTS表格中PO2和PCO2数据进行插值"
   ]
  },
  {
   "cell_type": "code",
   "execution_count": 15,
   "id": "406dc879-f3d3-4e20-a2fe-91a3b4966d5f",
   "metadata": {},
   "outputs": [],
   "source": [
    "ipl = pd.DataFrame()  # 用来存储插值后的结果"
   ]
  },
  {
   "cell_type": "code",
   "execution_count": 16,
   "id": "38e856ea-d5fd-4be7-ba1e-addf108c2097",
   "metadata": {
    "tags": []
   },
   "outputs": [],
   "source": [
    "for key, item in group:\n",
    "    item.set_index('采集时间', inplace=True)\n",
    "    item.index = pd.to_datetime(item.index)\n",
    "    # 设置重采样时间间隔为1min，该时间由上面选取得到\n",
    "    ev_ipl = item.resample('1min').interpolate()  # 这里使用默认的线性插值\n",
    "    ipl = pd.concat([ipl, ev_ipl], axis=0)"
   ]
  },
  {
   "cell_type": "code",
   "execution_count": 17,
   "id": "da3ad616-b720-4dc8-909b-d7b076f3e9a6",
   "metadata": {},
   "outputs": [
    {
     "data": {
      "text/html": [
       "<div>\n",
       "<style scoped>\n",
       "    .dataframe tbody tr th:only-of-type {\n",
       "        vertical-align: middle;\n",
       "    }\n",
       "\n",
       "    .dataframe tbody tr th {\n",
       "        vertical-align: top;\n",
       "    }\n",
       "\n",
       "    .dataframe thead th {\n",
       "        text-align: right;\n",
       "    }\n",
       "</style>\n",
       "<table border=\"1\" class=\"dataframe\">\n",
       "  <thead>\n",
       "    <tr style=\"text-align: right;\">\n",
       "      <th></th>\n",
       "      <th>PO2</th>\n",
       "      <th>PCO2</th>\n",
       "      <th>SUBJECT_ID</th>\n",
       "      <th>HADM_ID1</th>\n",
       "      <th>采集时间</th>\n",
       "    </tr>\n",
       "    <tr>\n",
       "      <th>序号</th>\n",
       "      <th></th>\n",
       "      <th></th>\n",
       "      <th></th>\n",
       "      <th></th>\n",
       "      <th></th>\n",
       "    </tr>\n",
       "  </thead>\n",
       "  <tbody>\n",
       "    <tr>\n",
       "      <th>1</th>\n",
       "      <td>63.000000</td>\n",
       "      <td>48.000000</td>\n",
       "      <td>127.0</td>\n",
       "      <td>141647.0</td>\n",
       "      <td>2183-08-21 10:26:00</td>\n",
       "    </tr>\n",
       "    <tr>\n",
       "      <th>2</th>\n",
       "      <td>347.000000</td>\n",
       "      <td>57.000000</td>\n",
       "      <td>273.0</td>\n",
       "      <td>158689.0</td>\n",
       "      <td>2141-04-19 05:26:00</td>\n",
       "    </tr>\n",
       "    <tr>\n",
       "      <th>3</th>\n",
       "      <td>346.573604</td>\n",
       "      <td>56.994924</td>\n",
       "      <td>273.0</td>\n",
       "      <td>158689.0</td>\n",
       "      <td>2141-04-19 05:27:00</td>\n",
       "    </tr>\n",
       "    <tr>\n",
       "      <th>4</th>\n",
       "      <td>346.147208</td>\n",
       "      <td>56.989848</td>\n",
       "      <td>273.0</td>\n",
       "      <td>158689.0</td>\n",
       "      <td>2141-04-19 05:28:00</td>\n",
       "    </tr>\n",
       "    <tr>\n",
       "      <th>5</th>\n",
       "      <td>345.720812</td>\n",
       "      <td>56.984772</td>\n",
       "      <td>273.0</td>\n",
       "      <td>158689.0</td>\n",
       "      <td>2141-04-19 05:29:00</td>\n",
       "    </tr>\n",
       "    <tr>\n",
       "      <th>...</th>\n",
       "      <td>...</td>\n",
       "      <td>...</td>\n",
       "      <td>...</td>\n",
       "      <td>...</td>\n",
       "      <td>...</td>\n",
       "    </tr>\n",
       "    <tr>\n",
       "      <th>2365510</th>\n",
       "      <td>56.030810</td>\n",
       "      <td>37.997630</td>\n",
       "      <td>99863.0</td>\n",
       "      <td>100749.0</td>\n",
       "      <td>2142-04-24 17:46:00</td>\n",
       "    </tr>\n",
       "    <tr>\n",
       "      <th>2365511</th>\n",
       "      <td>56.023108</td>\n",
       "      <td>37.998222</td>\n",
       "      <td>99863.0</td>\n",
       "      <td>100749.0</td>\n",
       "      <td>2142-04-24 17:47:00</td>\n",
       "    </tr>\n",
       "    <tr>\n",
       "      <th>2365512</th>\n",
       "      <td>56.015405</td>\n",
       "      <td>37.998815</td>\n",
       "      <td>99863.0</td>\n",
       "      <td>100749.0</td>\n",
       "      <td>2142-04-24 17:48:00</td>\n",
       "    </tr>\n",
       "    <tr>\n",
       "      <th>2365513</th>\n",
       "      <td>56.007703</td>\n",
       "      <td>37.999407</td>\n",
       "      <td>99863.0</td>\n",
       "      <td>100749.0</td>\n",
       "      <td>2142-04-24 17:49:00</td>\n",
       "    </tr>\n",
       "    <tr>\n",
       "      <th>2365514</th>\n",
       "      <td>56.000000</td>\n",
       "      <td>38.000000</td>\n",
       "      <td>99863.0</td>\n",
       "      <td>100749.0</td>\n",
       "      <td>2142-04-24 17:50:00</td>\n",
       "    </tr>\n",
       "  </tbody>\n",
       "</table>\n",
       "<p>2365514 rows × 5 columns</p>\n",
       "</div>"
      ],
      "text/plain": [
       "                PO2       PCO2  SUBJECT_ID  HADM_ID1                采集时间\n",
       "序号                                                                      \n",
       "1         63.000000  48.000000       127.0  141647.0 2183-08-21 10:26:00\n",
       "2        347.000000  57.000000       273.0  158689.0 2141-04-19 05:26:00\n",
       "3        346.573604  56.994924       273.0  158689.0 2141-04-19 05:27:00\n",
       "4        346.147208  56.989848       273.0  158689.0 2141-04-19 05:28:00\n",
       "5        345.720812  56.984772       273.0  158689.0 2141-04-19 05:29:00\n",
       "...             ...        ...         ...       ...                 ...\n",
       "2365510   56.030810  37.997630     99863.0  100749.0 2142-04-24 17:46:00\n",
       "2365511   56.023108  37.998222     99863.0  100749.0 2142-04-24 17:47:00\n",
       "2365512   56.015405  37.998815     99863.0  100749.0 2142-04-24 17:48:00\n",
       "2365513   56.007703  37.999407     99863.0  100749.0 2142-04-24 17:49:00\n",
       "2365514   56.000000  38.000000     99863.0  100749.0 2142-04-24 17:50:00\n",
       "\n",
       "[2365514 rows x 5 columns]"
      ]
     },
     "execution_count": 17,
     "metadata": {},
     "output_type": "execute_result"
    }
   ],
   "source": [
    "# 重置索引\n",
    "ipl.reset_index(inplace=True)\n",
    "# 插入序号并设为索引\n",
    "ipl.insert(0, '序号', range(1, 1 + len(ipl)))\n",
    "ipl.set_index('序号', inplace=True)\n",
    "# 更换顺序\n",
    "order = ['PO2', 'PCO2', 'SUBJECT_ID', 'HADM_ID1', '采集时间']\n",
    "ipl = ipl[order]\n",
    "ipl"
   ]
  },
  {
   "cell_type": "markdown",
   "id": "81b7e424-d9f3-4913-b857-fbd86a41489b",
   "metadata": {},
   "source": [
    "## 对CHARTEVENTS表格中PO2和PCO2数据进行插值"
   ]
  },
  {
   "cell_type": "code",
   "execution_count": 18,
   "id": "c8d924c7-4b51-4c43-a075-13993c429f0f",
   "metadata": {},
   "outputs": [],
   "source": [
    "ipl2 = pd.DataFrame()  # 用来存储插值后的结果"
   ]
  },
  {
   "cell_type": "code",
   "execution_count": 19,
   "id": "9465ae8a-375e-4d97-a3b5-5dff58918dad",
   "metadata": {
    "tags": []
   },
   "outputs": [],
   "source": [
    "# 根据病人ID和不同住院时间的ID进行分组\n",
    "group2 = a2.groupby([\"SUBJECT_ID\", \"HADM_ID1\"])\n",
    "for key, item in group2:\n",
    "    item.set_index('采集时间', inplace=True)\n",
    "    item.index = pd.to_datetime(item.index)\n",
    "    # 设置重采样时间间隔为1min，该时间由上面选取得到\n",
    "    ev_ipl = item.resample('1min').interpolate()  # 这里使用默认的线性插值\n",
    "    ipl2 = pd.concat([ipl2, ev_ipl], axis=0)"
   ]
  },
  {
   "cell_type": "code",
   "execution_count": 20,
   "id": "22830ea7-2f4c-41f0-aedd-b3c9e76fc92c",
   "metadata": {},
   "outputs": [
    {
     "data": {
      "text/html": [
       "<div>\n",
       "<style scoped>\n",
       "    .dataframe tbody tr th:only-of-type {\n",
       "        vertical-align: middle;\n",
       "    }\n",
       "\n",
       "    .dataframe tbody tr th {\n",
       "        vertical-align: top;\n",
       "    }\n",
       "\n",
       "    .dataframe thead th {\n",
       "        text-align: right;\n",
       "    }\n",
       "</style>\n",
       "<table border=\"1\" class=\"dataframe\">\n",
       "  <thead>\n",
       "    <tr style=\"text-align: right;\">\n",
       "      <th></th>\n",
       "      <th>PO2</th>\n",
       "      <th>PCO2</th>\n",
       "      <th>SUBJECT_ID</th>\n",
       "      <th>HADM_ID1</th>\n",
       "      <th>采集时间</th>\n",
       "    </tr>\n",
       "    <tr>\n",
       "      <th>序号</th>\n",
       "      <th></th>\n",
       "      <th></th>\n",
       "      <th></th>\n",
       "      <th></th>\n",
       "      <th></th>\n",
       "    </tr>\n",
       "  </thead>\n",
       "  <tbody>\n",
       "    <tr>\n",
       "      <th>1</th>\n",
       "      <td>257.200012</td>\n",
       "      <td>NaN</td>\n",
       "      <td>907.0</td>\n",
       "      <td>149649.0</td>\n",
       "      <td>2155-08-21 19:00:00</td>\n",
       "    </tr>\n",
       "    <tr>\n",
       "      <th>2</th>\n",
       "      <td>308.500000</td>\n",
       "      <td>NaN</td>\n",
       "      <td>946.0</td>\n",
       "      <td>183564.0</td>\n",
       "      <td>2120-05-05 05:00:00</td>\n",
       "    </tr>\n",
       "    <tr>\n",
       "      <th>3</th>\n",
       "      <td>308.491890</td>\n",
       "      <td>NaN</td>\n",
       "      <td>946.0</td>\n",
       "      <td>183564.0</td>\n",
       "      <td>2120-05-05 05:01:00</td>\n",
       "    </tr>\n",
       "    <tr>\n",
       "      <th>4</th>\n",
       "      <td>308.483781</td>\n",
       "      <td>NaN</td>\n",
       "      <td>946.0</td>\n",
       "      <td>183564.0</td>\n",
       "      <td>2120-05-05 05:02:00</td>\n",
       "    </tr>\n",
       "    <tr>\n",
       "      <th>5</th>\n",
       "      <td>308.475671</td>\n",
       "      <td>NaN</td>\n",
       "      <td>946.0</td>\n",
       "      <td>183564.0</td>\n",
       "      <td>2120-05-05 05:03:00</td>\n",
       "    </tr>\n",
       "    <tr>\n",
       "      <th>...</th>\n",
       "      <td>...</td>\n",
       "      <td>...</td>\n",
       "      <td>...</td>\n",
       "      <td>...</td>\n",
       "      <td>...</td>\n",
       "    </tr>\n",
       "    <tr>\n",
       "      <th>325115</th>\n",
       "      <td>61.022901</td>\n",
       "      <td>35.984733</td>\n",
       "      <td>30712.0</td>\n",
       "      <td>167392.0</td>\n",
       "      <td>2111-02-24 06:10:00</td>\n",
       "    </tr>\n",
       "    <tr>\n",
       "      <th>325116</th>\n",
       "      <td>61.015267</td>\n",
       "      <td>35.989822</td>\n",
       "      <td>30712.0</td>\n",
       "      <td>167392.0</td>\n",
       "      <td>2111-02-24 06:11:00</td>\n",
       "    </tr>\n",
       "    <tr>\n",
       "      <th>325117</th>\n",
       "      <td>61.007634</td>\n",
       "      <td>35.994911</td>\n",
       "      <td>30712.0</td>\n",
       "      <td>167392.0</td>\n",
       "      <td>2111-02-24 06:12:00</td>\n",
       "    </tr>\n",
       "    <tr>\n",
       "      <th>325118</th>\n",
       "      <td>61.000000</td>\n",
       "      <td>36.000000</td>\n",
       "      <td>30712.0</td>\n",
       "      <td>167392.0</td>\n",
       "      <td>2111-02-24 06:13:00</td>\n",
       "    </tr>\n",
       "    <tr>\n",
       "      <th>325119</th>\n",
       "      <td>257.200012</td>\n",
       "      <td>NaN</td>\n",
       "      <td>32476.0</td>\n",
       "      <td>119862.0</td>\n",
       "      <td>2109-05-30 18:59:00</td>\n",
       "    </tr>\n",
       "  </tbody>\n",
       "</table>\n",
       "<p>325119 rows × 5 columns</p>\n",
       "</div>"
      ],
      "text/plain": [
       "               PO2       PCO2  SUBJECT_ID  HADM_ID1                采集时间\n",
       "序号                                                                     \n",
       "1       257.200012        NaN       907.0  149649.0 2155-08-21 19:00:00\n",
       "2       308.500000        NaN       946.0  183564.0 2120-05-05 05:00:00\n",
       "3       308.491890        NaN       946.0  183564.0 2120-05-05 05:01:00\n",
       "4       308.483781        NaN       946.0  183564.0 2120-05-05 05:02:00\n",
       "5       308.475671        NaN       946.0  183564.0 2120-05-05 05:03:00\n",
       "...            ...        ...         ...       ...                 ...\n",
       "325115   61.022901  35.984733     30712.0  167392.0 2111-02-24 06:10:00\n",
       "325116   61.015267  35.989822     30712.0  167392.0 2111-02-24 06:11:00\n",
       "325117   61.007634  35.994911     30712.0  167392.0 2111-02-24 06:12:00\n",
       "325118   61.000000  36.000000     30712.0  167392.0 2111-02-24 06:13:00\n",
       "325119  257.200012        NaN     32476.0  119862.0 2109-05-30 18:59:00\n",
       "\n",
       "[325119 rows x 5 columns]"
      ]
     },
     "execution_count": 20,
     "metadata": {},
     "output_type": "execute_result"
    }
   ],
   "source": [
    "# 重置索引\n",
    "ipl2.reset_index(inplace=True)\n",
    "# 插入序号并设为索引\n",
    "ipl2.insert(0, '序号', range(1, 1 + len(ipl2)))\n",
    "ipl2.set_index('序号', inplace=True)\n",
    "# 更换顺序\n",
    "order = ['PO2', 'PCO2', 'SUBJECT_ID', 'HADM_ID1', '采集时间']\n",
    "ipl2 = ipl2[order]\n",
    "ipl2"
   ]
  },
  {
   "cell_type": "markdown",
   "id": "0c9a863d-1c64-4632-8910-9732b388ac30",
   "metadata": {},
   "source": [
    "# 缺失点处理"
   ]
  },
  {
   "cell_type": "markdown",
   "id": "58e547e7-7207-4242-abe7-4e5ecbc703b0",
   "metadata": {},
   "source": [
    "## 对LABEVENTS表格中PO2和PCO2数据缺失点进行处理"
   ]
  },
  {
   "cell_type": "code",
   "execution_count": 22,
   "id": "58648510-62c1-4298-9988-a3cafa1156f8",
   "metadata": {},
   "outputs": [
    {
     "data": {
      "text/html": [
       "<div>\n",
       "<style scoped>\n",
       "    .dataframe tbody tr th:only-of-type {\n",
       "        vertical-align: middle;\n",
       "    }\n",
       "\n",
       "    .dataframe tbody tr th {\n",
       "        vertical-align: top;\n",
       "    }\n",
       "\n",
       "    .dataframe thead th {\n",
       "        text-align: right;\n",
       "    }\n",
       "</style>\n",
       "<table border=\"1\" class=\"dataframe\">\n",
       "  <thead>\n",
       "    <tr style=\"text-align: right;\">\n",
       "      <th></th>\n",
       "      <th>PO2</th>\n",
       "      <th>PCO2</th>\n",
       "      <th>SUBJECT_ID</th>\n",
       "      <th>HADM_ID1</th>\n",
       "      <th>采集时间</th>\n",
       "    </tr>\n",
       "    <tr>\n",
       "      <th>序号</th>\n",
       "      <th></th>\n",
       "      <th></th>\n",
       "      <th></th>\n",
       "      <th></th>\n",
       "      <th></th>\n",
       "    </tr>\n",
       "  </thead>\n",
       "  <tbody>\n",
       "  </tbody>\n",
       "</table>\n",
       "</div>"
      ],
      "text/plain": [
       "Empty DataFrame\n",
       "Columns: [PO2, PCO2, SUBJECT_ID, HADM_ID1, 采集时间]\n",
       "Index: []"
      ]
     },
     "execution_count": 22,
     "metadata": {},
     "output_type": "execute_result"
    }
   ],
   "source": [
    "# 检测PO2缺失值\n",
    "ipl.loc[ipl[\"PO2\"].isnull(), :]"
   ]
  },
  {
   "cell_type": "code",
   "execution_count": 23,
   "id": "1f378439-e29c-4ce1-8011-6261e1744f09",
   "metadata": {},
   "outputs": [
    {
     "data": {
      "text/html": [
       "<div>\n",
       "<style scoped>\n",
       "    .dataframe tbody tr th:only-of-type {\n",
       "        vertical-align: middle;\n",
       "    }\n",
       "\n",
       "    .dataframe tbody tr th {\n",
       "        vertical-align: top;\n",
       "    }\n",
       "\n",
       "    .dataframe thead th {\n",
       "        text-align: right;\n",
       "    }\n",
       "</style>\n",
       "<table border=\"1\" class=\"dataframe\">\n",
       "  <thead>\n",
       "    <tr style=\"text-align: right;\">\n",
       "      <th></th>\n",
       "      <th>PO2</th>\n",
       "      <th>PCO2</th>\n",
       "      <th>SUBJECT_ID</th>\n",
       "      <th>HADM_ID1</th>\n",
       "      <th>采集时间</th>\n",
       "    </tr>\n",
       "    <tr>\n",
       "      <th>序号</th>\n",
       "      <th></th>\n",
       "      <th></th>\n",
       "      <th></th>\n",
       "      <th></th>\n",
       "      <th></th>\n",
       "    </tr>\n",
       "  </thead>\n",
       "  <tbody>\n",
       "  </tbody>\n",
       "</table>\n",
       "</div>"
      ],
      "text/plain": [
       "Empty DataFrame\n",
       "Columns: [PO2, PCO2, SUBJECT_ID, HADM_ID1, 采集时间]\n",
       "Index: []"
      ]
     },
     "execution_count": 23,
     "metadata": {},
     "output_type": "execute_result"
    }
   ],
   "source": [
    "# 检测PCO2缺失值\n",
    "ipl.loc[ipl[\"PCO2\"].isnull(), :]"
   ]
  },
  {
   "cell_type": "markdown",
   "id": "d792547e-30b8-4b61-87ac-052a0fb38205",
   "metadata": {},
   "source": [
    "LABEVENTS表格中PO2和PCO2数据均无缺失点，不进行处理。"
   ]
  },
  {
   "cell_type": "markdown",
   "id": "2d804727-f8ef-48f0-95ee-09fb51f1f438",
   "metadata": {},
   "source": [
    "## 对LABEVENTS表格中PO2和PCO2数据缺失点进行处理"
   ]
  },
  {
   "cell_type": "code",
   "execution_count": 24,
   "id": "01cc7e1e-b189-4120-915a-e9dcf240cadc",
   "metadata": {},
   "outputs": [
    {
     "data": {
      "text/html": [
       "<div>\n",
       "<style scoped>\n",
       "    .dataframe tbody tr th:only-of-type {\n",
       "        vertical-align: middle;\n",
       "    }\n",
       "\n",
       "    .dataframe tbody tr th {\n",
       "        vertical-align: top;\n",
       "    }\n",
       "\n",
       "    .dataframe thead th {\n",
       "        text-align: right;\n",
       "    }\n",
       "</style>\n",
       "<table border=\"1\" class=\"dataframe\">\n",
       "  <thead>\n",
       "    <tr style=\"text-align: right;\">\n",
       "      <th></th>\n",
       "      <th>PO2</th>\n",
       "      <th>PCO2</th>\n",
       "      <th>SUBJECT_ID</th>\n",
       "      <th>HADM_ID1</th>\n",
       "      <th>采集时间</th>\n",
       "    </tr>\n",
       "    <tr>\n",
       "      <th>序号</th>\n",
       "      <th></th>\n",
       "      <th></th>\n",
       "      <th></th>\n",
       "      <th></th>\n",
       "      <th></th>\n",
       "    </tr>\n",
       "  </thead>\n",
       "  <tbody>\n",
       "    <tr>\n",
       "      <th>22158</th>\n",
       "      <td>NaN</td>\n",
       "      <td>NaN</td>\n",
       "      <td>7285.0</td>\n",
       "      <td>150783.0</td>\n",
       "      <td>2175-04-21 08:00:00</td>\n",
       "    </tr>\n",
       "    <tr>\n",
       "      <th>29662</th>\n",
       "      <td>NaN</td>\n",
       "      <td>NaN</td>\n",
       "      <td>13081.0</td>\n",
       "      <td>120737.0</td>\n",
       "      <td>2102-01-11 06:00:00</td>\n",
       "    </tr>\n",
       "    <tr>\n",
       "      <th>86560</th>\n",
       "      <td>NaN</td>\n",
       "      <td>NaN</td>\n",
       "      <td>18305.0</td>\n",
       "      <td>120110.0</td>\n",
       "      <td>2187-02-06 10:00:00</td>\n",
       "    </tr>\n",
       "  </tbody>\n",
       "</table>\n",
       "</div>"
      ],
      "text/plain": [
       "       PO2  PCO2  SUBJECT_ID  HADM_ID1                采集时间\n",
       "序号                                                        \n",
       "22158  NaN   NaN      7285.0  150783.0 2175-04-21 08:00:00\n",
       "29662  NaN   NaN     13081.0  120737.0 2102-01-11 06:00:00\n",
       "86560  NaN   NaN     18305.0  120110.0 2187-02-06 10:00:00"
      ]
     },
     "execution_count": 24,
     "metadata": {},
     "output_type": "execute_result"
    }
   ],
   "source": [
    "# 检测PO2缺失值\n",
    "ipl2.loc[ipl2[\"PO2\"].isnull(), :]"
   ]
  },
  {
   "cell_type": "code",
   "execution_count": 25,
   "id": "9b23e74f-8213-4719-b359-b81d77dc4115",
   "metadata": {},
   "outputs": [
    {
     "data": {
      "text/html": [
       "<div>\n",
       "<style scoped>\n",
       "    .dataframe tbody tr th:only-of-type {\n",
       "        vertical-align: middle;\n",
       "    }\n",
       "\n",
       "    .dataframe tbody tr th {\n",
       "        vertical-align: top;\n",
       "    }\n",
       "\n",
       "    .dataframe thead th {\n",
       "        text-align: right;\n",
       "    }\n",
       "</style>\n",
       "<table border=\"1\" class=\"dataframe\">\n",
       "  <thead>\n",
       "    <tr style=\"text-align: right;\">\n",
       "      <th></th>\n",
       "      <th>PO2</th>\n",
       "      <th>PCO2</th>\n",
       "      <th>SUBJECT_ID</th>\n",
       "      <th>HADM_ID1</th>\n",
       "      <th>采集时间</th>\n",
       "    </tr>\n",
       "    <tr>\n",
       "      <th>序号</th>\n",
       "      <th></th>\n",
       "      <th></th>\n",
       "      <th></th>\n",
       "      <th></th>\n",
       "      <th></th>\n",
       "    </tr>\n",
       "  </thead>\n",
       "  <tbody>\n",
       "    <tr>\n",
       "      <th>1</th>\n",
       "      <td>257.200012</td>\n",
       "      <td>NaN</td>\n",
       "      <td>907.0</td>\n",
       "      <td>149649.0</td>\n",
       "      <td>2155-08-21 19:00:00</td>\n",
       "    </tr>\n",
       "    <tr>\n",
       "      <th>2</th>\n",
       "      <td>308.500000</td>\n",
       "      <td>NaN</td>\n",
       "      <td>946.0</td>\n",
       "      <td>183564.0</td>\n",
       "      <td>2120-05-05 05:00:00</td>\n",
       "    </tr>\n",
       "    <tr>\n",
       "      <th>3</th>\n",
       "      <td>308.491890</td>\n",
       "      <td>NaN</td>\n",
       "      <td>946.0</td>\n",
       "      <td>183564.0</td>\n",
       "      <td>2120-05-05 05:01:00</td>\n",
       "    </tr>\n",
       "    <tr>\n",
       "      <th>4</th>\n",
       "      <td>308.483781</td>\n",
       "      <td>NaN</td>\n",
       "      <td>946.0</td>\n",
       "      <td>183564.0</td>\n",
       "      <td>2120-05-05 05:02:00</td>\n",
       "    </tr>\n",
       "    <tr>\n",
       "      <th>5</th>\n",
       "      <td>308.475671</td>\n",
       "      <td>NaN</td>\n",
       "      <td>946.0</td>\n",
       "      <td>183564.0</td>\n",
       "      <td>2120-05-05 05:03:00</td>\n",
       "    </tr>\n",
       "    <tr>\n",
       "      <th>...</th>\n",
       "      <td>...</td>\n",
       "      <td>...</td>\n",
       "      <td>...</td>\n",
       "      <td>...</td>\n",
       "      <td>...</td>\n",
       "    </tr>\n",
       "    <tr>\n",
       "      <th>86557</th>\n",
       "      <td>249.199997</td>\n",
       "      <td>NaN</td>\n",
       "      <td>16378.0</td>\n",
       "      <td>179705.0</td>\n",
       "      <td>2134-03-15 19:00:00</td>\n",
       "    </tr>\n",
       "    <tr>\n",
       "      <th>86560</th>\n",
       "      <td>NaN</td>\n",
       "      <td>NaN</td>\n",
       "      <td>18305.0</td>\n",
       "      <td>120110.0</td>\n",
       "      <td>2187-02-06 10:00:00</td>\n",
       "    </tr>\n",
       "    <tr>\n",
       "      <th>270864</th>\n",
       "      <td>310.500000</td>\n",
       "      <td>NaN</td>\n",
       "      <td>20913.0</td>\n",
       "      <td>102847.0</td>\n",
       "      <td>2137-12-18 22:45:00</td>\n",
       "    </tr>\n",
       "    <tr>\n",
       "      <th>296323</th>\n",
       "      <td>249.199997</td>\n",
       "      <td>NaN</td>\n",
       "      <td>29769.0</td>\n",
       "      <td>179221.0</td>\n",
       "      <td>2178-02-28 19:00:00</td>\n",
       "    </tr>\n",
       "    <tr>\n",
       "      <th>325119</th>\n",
       "      <td>257.200012</td>\n",
       "      <td>NaN</td>\n",
       "      <td>32476.0</td>\n",
       "      <td>119862.0</td>\n",
       "      <td>2109-05-30 18:59:00</td>\n",
       "    </tr>\n",
       "  </tbody>\n",
       "</table>\n",
       "<p>7813 rows × 5 columns</p>\n",
       "</div>"
      ],
      "text/plain": [
       "               PO2  PCO2  SUBJECT_ID  HADM_ID1                采集时间\n",
       "序号                                                                \n",
       "1       257.200012   NaN       907.0  149649.0 2155-08-21 19:00:00\n",
       "2       308.500000   NaN       946.0  183564.0 2120-05-05 05:00:00\n",
       "3       308.491890   NaN       946.0  183564.0 2120-05-05 05:01:00\n",
       "4       308.483781   NaN       946.0  183564.0 2120-05-05 05:02:00\n",
       "5       308.475671   NaN       946.0  183564.0 2120-05-05 05:03:00\n",
       "...            ...   ...         ...       ...                 ...\n",
       "86557   249.199997   NaN     16378.0  179705.0 2134-03-15 19:00:00\n",
       "86560          NaN   NaN     18305.0  120110.0 2187-02-06 10:00:00\n",
       "270864  310.500000   NaN     20913.0  102847.0 2137-12-18 22:45:00\n",
       "296323  249.199997   NaN     29769.0  179221.0 2178-02-28 19:00:00\n",
       "325119  257.200012   NaN     32476.0  119862.0 2109-05-30 18:59:00\n",
       "\n",
       "[7813 rows x 5 columns]"
      ]
     },
     "execution_count": 25,
     "metadata": {},
     "output_type": "execute_result"
    }
   ],
   "source": [
    "# 检测PCO2缺失值\n",
    "ipl2.loc[ipl2[\"PCO2\"].isnull(), :]"
   ]
  },
  {
   "cell_type": "markdown",
   "id": "6a876ed6-0fbe-415d-a02c-5ce805ba692a",
   "metadata": {},
   "source": [
    "这里总共检测出7813条数据具有缺失值，将这些数据进行删除处理"
   ]
  },
  {
   "cell_type": "code",
   "execution_count": 26,
   "id": "ad7d90b4-c844-4434-9e61-94c885de53d4",
   "metadata": {},
   "outputs": [],
   "source": [
    "ipl2.dropna(axis='index', how='any', inplace=True)  # any表示只要有一个缺失值则整行删除"
   ]
  },
  {
   "cell_type": "markdown",
   "id": "68bf8ed4-bd58-4542-82ba-66de4f8c9678",
   "metadata": {},
   "source": [
    "处理后的数据如下表所示"
   ]
  },
  {
   "cell_type": "code",
   "execution_count": 27,
   "id": "96e4e447-499c-44e8-99ed-57128bf713ae",
   "metadata": {},
   "outputs": [
    {
     "data": {
      "text/html": [
       "<div>\n",
       "<style scoped>\n",
       "    .dataframe tbody tr th:only-of-type {\n",
       "        vertical-align: middle;\n",
       "    }\n",
       "\n",
       "    .dataframe tbody tr th {\n",
       "        vertical-align: top;\n",
       "    }\n",
       "\n",
       "    .dataframe thead th {\n",
       "        text-align: right;\n",
       "    }\n",
       "</style>\n",
       "<table border=\"1\" class=\"dataframe\">\n",
       "  <thead>\n",
       "    <tr style=\"text-align: right;\">\n",
       "      <th></th>\n",
       "      <th>PO2</th>\n",
       "      <th>PCO2</th>\n",
       "      <th>SUBJECT_ID</th>\n",
       "      <th>HADM_ID1</th>\n",
       "      <th>采集时间</th>\n",
       "    </tr>\n",
       "    <tr>\n",
       "      <th>序号</th>\n",
       "      <th></th>\n",
       "      <th></th>\n",
       "      <th></th>\n",
       "      <th></th>\n",
       "      <th></th>\n",
       "    </tr>\n",
       "  </thead>\n",
       "  <tbody>\n",
       "    <tr>\n",
       "      <th>7562</th>\n",
       "      <td>50.000000</td>\n",
       "      <td>58.000000</td>\n",
       "      <td>4033.0</td>\n",
       "      <td>196289.0</td>\n",
       "      <td>2159-06-15 01:00:00</td>\n",
       "    </tr>\n",
       "    <tr>\n",
       "      <th>7563</th>\n",
       "      <td>50.000000</td>\n",
       "      <td>58.000000</td>\n",
       "      <td>4033.0</td>\n",
       "      <td>196289.0</td>\n",
       "      <td>2159-06-15 01:01:00</td>\n",
       "    </tr>\n",
       "    <tr>\n",
       "      <th>7564</th>\n",
       "      <td>50.000000</td>\n",
       "      <td>58.000000</td>\n",
       "      <td>4033.0</td>\n",
       "      <td>196289.0</td>\n",
       "      <td>2159-06-15 01:02:00</td>\n",
       "    </tr>\n",
       "    <tr>\n",
       "      <th>7565</th>\n",
       "      <td>50.000000</td>\n",
       "      <td>58.000000</td>\n",
       "      <td>4033.0</td>\n",
       "      <td>196289.0</td>\n",
       "      <td>2159-06-15 01:03:00</td>\n",
       "    </tr>\n",
       "    <tr>\n",
       "      <th>7566</th>\n",
       "      <td>50.000000</td>\n",
       "      <td>58.000000</td>\n",
       "      <td>4033.0</td>\n",
       "      <td>196289.0</td>\n",
       "      <td>2159-06-15 01:04:00</td>\n",
       "    </tr>\n",
       "    <tr>\n",
       "      <th>...</th>\n",
       "      <td>...</td>\n",
       "      <td>...</td>\n",
       "      <td>...</td>\n",
       "      <td>...</td>\n",
       "      <td>...</td>\n",
       "    </tr>\n",
       "    <tr>\n",
       "      <th>325114</th>\n",
       "      <td>61.030534</td>\n",
       "      <td>35.979644</td>\n",
       "      <td>30712.0</td>\n",
       "      <td>167392.0</td>\n",
       "      <td>2111-02-24 06:09:00</td>\n",
       "    </tr>\n",
       "    <tr>\n",
       "      <th>325115</th>\n",
       "      <td>61.022901</td>\n",
       "      <td>35.984733</td>\n",
       "      <td>30712.0</td>\n",
       "      <td>167392.0</td>\n",
       "      <td>2111-02-24 06:10:00</td>\n",
       "    </tr>\n",
       "    <tr>\n",
       "      <th>325116</th>\n",
       "      <td>61.015267</td>\n",
       "      <td>35.989822</td>\n",
       "      <td>30712.0</td>\n",
       "      <td>167392.0</td>\n",
       "      <td>2111-02-24 06:11:00</td>\n",
       "    </tr>\n",
       "    <tr>\n",
       "      <th>325117</th>\n",
       "      <td>61.007634</td>\n",
       "      <td>35.994911</td>\n",
       "      <td>30712.0</td>\n",
       "      <td>167392.0</td>\n",
       "      <td>2111-02-24 06:12:00</td>\n",
       "    </tr>\n",
       "    <tr>\n",
       "      <th>325118</th>\n",
       "      <td>61.000000</td>\n",
       "      <td>36.000000</td>\n",
       "      <td>30712.0</td>\n",
       "      <td>167392.0</td>\n",
       "      <td>2111-02-24 06:13:00</td>\n",
       "    </tr>\n",
       "  </tbody>\n",
       "</table>\n",
       "<p>317306 rows × 5 columns</p>\n",
       "</div>"
      ],
      "text/plain": [
       "              PO2       PCO2  SUBJECT_ID  HADM_ID1                采集时间\n",
       "序号                                                                    \n",
       "7562    50.000000  58.000000      4033.0  196289.0 2159-06-15 01:00:00\n",
       "7563    50.000000  58.000000      4033.0  196289.0 2159-06-15 01:01:00\n",
       "7564    50.000000  58.000000      4033.0  196289.0 2159-06-15 01:02:00\n",
       "7565    50.000000  58.000000      4033.0  196289.0 2159-06-15 01:03:00\n",
       "7566    50.000000  58.000000      4033.0  196289.0 2159-06-15 01:04:00\n",
       "...           ...        ...         ...       ...                 ...\n",
       "325114  61.030534  35.979644     30712.0  167392.0 2111-02-24 06:09:00\n",
       "325115  61.022901  35.984733     30712.0  167392.0 2111-02-24 06:10:00\n",
       "325116  61.015267  35.989822     30712.0  167392.0 2111-02-24 06:11:00\n",
       "325117  61.007634  35.994911     30712.0  167392.0 2111-02-24 06:12:00\n",
       "325118  61.000000  36.000000     30712.0  167392.0 2111-02-24 06:13:00\n",
       "\n",
       "[317306 rows x 5 columns]"
      ]
     },
     "execution_count": 27,
     "metadata": {},
     "output_type": "execute_result"
    }
   ],
   "source": [
    "ipl2"
   ]
  },
  {
   "cell_type": "markdown",
   "id": "8d625745-e045-4b39-a45b-221ed032360c",
   "metadata": {},
   "source": [
    "# 去噪\n",
    "在原始数据中添加了高斯白噪声，需要进行去噪。我选择删除偏离均值三倍标准差数据的方式进行去噪。"
   ]
  },
  {
   "cell_type": "code",
   "execution_count": 28,
   "id": "af1dced8-d789-4c84-be0f-3c0bba0cd1b4",
   "metadata": {},
   "outputs": [],
   "source": [
    "def drop_noisy(df):\n",
    "    df_copy = df.copy()\n",
    "    df_describe = df_copy.describe()\n",
    "    for column in df.columns:\n",
    "        mean = df_describe.loc['mean', column]\n",
    "        std = df_describe.loc['std', column]\n",
    "        minvalue = mean - 3*std\n",
    "        maxvalue = mean + 3*std\n",
    "        df_copy = df_copy[df_copy[column] >= minvalue]\n",
    "        df_copy = df_copy[df_copy[column] <= maxvalue]\n",
    "    return df_copy"
   ]
  },
  {
   "cell_type": "markdown",
   "id": "7f81a253-8ffd-4c13-bba5-82f6cce3e78e",
   "metadata": {},
   "source": [
    "## 对LABEVENTS表格中PO2和PCO2数据进行去噪"
   ]
  },
  {
   "cell_type": "code",
   "execution_count": 29,
   "id": "7548ef33-dd58-4b9c-a52a-78beb8c0c016",
   "metadata": {},
   "outputs": [
    {
     "data": {
      "text/html": [
       "<div>\n",
       "<style scoped>\n",
       "    .dataframe tbody tr th:only-of-type {\n",
       "        vertical-align: middle;\n",
       "    }\n",
       "\n",
       "    .dataframe tbody tr th {\n",
       "        vertical-align: top;\n",
       "    }\n",
       "\n",
       "    .dataframe thead th {\n",
       "        text-align: right;\n",
       "    }\n",
       "</style>\n",
       "<table border=\"1\" class=\"dataframe\">\n",
       "  <thead>\n",
       "    <tr style=\"text-align: right;\">\n",
       "      <th></th>\n",
       "      <th>PO2</th>\n",
       "      <th>PCO2</th>\n",
       "    </tr>\n",
       "    <tr>\n",
       "      <th>序号</th>\n",
       "      <th></th>\n",
       "      <th></th>\n",
       "    </tr>\n",
       "  </thead>\n",
       "  <tbody>\n",
       "    <tr>\n",
       "      <th>1</th>\n",
       "      <td>63.000000</td>\n",
       "      <td>48.000000</td>\n",
       "    </tr>\n",
       "    <tr>\n",
       "      <th>2</th>\n",
       "      <td>347.000000</td>\n",
       "      <td>57.000000</td>\n",
       "    </tr>\n",
       "    <tr>\n",
       "      <th>3</th>\n",
       "      <td>346.573604</td>\n",
       "      <td>56.994924</td>\n",
       "    </tr>\n",
       "    <tr>\n",
       "      <th>4</th>\n",
       "      <td>346.147208</td>\n",
       "      <td>56.989848</td>\n",
       "    </tr>\n",
       "    <tr>\n",
       "      <th>5</th>\n",
       "      <td>345.720812</td>\n",
       "      <td>56.984772</td>\n",
       "    </tr>\n",
       "    <tr>\n",
       "      <th>...</th>\n",
       "      <td>...</td>\n",
       "      <td>...</td>\n",
       "    </tr>\n",
       "    <tr>\n",
       "      <th>2365510</th>\n",
       "      <td>56.030810</td>\n",
       "      <td>37.997630</td>\n",
       "    </tr>\n",
       "    <tr>\n",
       "      <th>2365511</th>\n",
       "      <td>56.023108</td>\n",
       "      <td>37.998222</td>\n",
       "    </tr>\n",
       "    <tr>\n",
       "      <th>2365512</th>\n",
       "      <td>56.015405</td>\n",
       "      <td>37.998815</td>\n",
       "    </tr>\n",
       "    <tr>\n",
       "      <th>2365513</th>\n",
       "      <td>56.007703</td>\n",
       "      <td>37.999407</td>\n",
       "    </tr>\n",
       "    <tr>\n",
       "      <th>2365514</th>\n",
       "      <td>56.000000</td>\n",
       "      <td>38.000000</td>\n",
       "    </tr>\n",
       "  </tbody>\n",
       "</table>\n",
       "<p>2266786 rows × 2 columns</p>\n",
       "</div>"
      ],
      "text/plain": [
       "                PO2       PCO2\n",
       "序号                            \n",
       "1         63.000000  48.000000\n",
       "2        347.000000  57.000000\n",
       "3        346.573604  56.994924\n",
       "4        346.147208  56.989848\n",
       "5        345.720812  56.984772\n",
       "...             ...        ...\n",
       "2365510   56.030810  37.997630\n",
       "2365511   56.023108  37.998222\n",
       "2365512   56.015405  37.998815\n",
       "2365513   56.007703  37.999407\n",
       "2365514   56.000000  38.000000\n",
       "\n",
       "[2266786 rows x 2 columns]"
      ]
     },
     "execution_count": 29,
     "metadata": {},
     "output_type": "execute_result"
    }
   ],
   "source": [
    "# 这里只对PO2和PCO2列进行去噪\n",
    "dno1 = drop_noisy(ipl.iloc[:, :2])\n",
    "dno1"
   ]
  },
  {
   "cell_type": "markdown",
   "id": "ee311ec0-cddc-4dc2-9f9d-2d5cee7d7e9c",
   "metadata": {},
   "source": [
    "对PO2和PCO2去噪结果进行可视化展示"
   ]
  },
  {
   "cell_type": "code",
   "execution_count": 30,
   "id": "9fb3d8cc-ec32-4ae0-a02b-cd5bf059aa16",
   "metadata": {},
   "outputs": [
    {
     "data": {
      "text/plain": [
       "<matplotlib.axes._subplots.AxesSubplot at 0x21fc3a4dc10>"
      ]
     },
     "execution_count": 30,
     "metadata": {},
     "output_type": "execute_result"
    },
    {
     "data": {
      "image/png": "[encoded data removed]",
      "text/plain": [
       "<Figure size 432x288 with 1 Axes>"
      ]
     },
     "metadata": {
      "needs_background": "light"
     },
     "output_type": "display_data"
    }
   ],
   "source": [
    "# PO2去噪前后可视化\n",
    "plo1 = pd.DataFrame()\n",
    "plo1['PO2去噪前'] = ipl['PO2']\n",
    "plo1['PO2去噪后'] = dno1['PO2']\n",
    "plo1.plot.hist(alpha=0.9)"
   ]
  },
  {
   "cell_type": "code",
   "execution_count": 31,
   "id": "a4e7fa23-7479-4892-8f06-dd97fe5a5596",
   "metadata": {},
   "outputs": [
    {
     "data": {
      "text/plain": [
       "<matplotlib.axes._subplots.AxesSubplot at 0x21fc35a7f10>"
      ]
     },
     "execution_count": 31,
     "metadata": {},
     "output_type": "execute_result"
    },
    {
     "data": {
      "image/png": "[encoded data removed]",
      "text/plain": [
       "<Figure size 432x288 with 1 Axes>"
      ]
     },
     "metadata": {
      "needs_background": "light"
     },
     "output_type": "display_data"
    }
   ],
   "source": [
    "# PCO2去噪前后可视化\n",
    "plo2 = pd.DataFrame()\n",
    "plo2['PCO2去噪前'] = ipl['PCO2']\n",
    "plo2['PCO2去噪后'] = dno1['PCO2']\n",
    "plo2.plot.hist(alpha=0.9)"
   ]
  },
  {
   "cell_type": "markdown",
   "id": "efd7f3ad-5ac5-4b05-94b5-a5215a3c0273",
   "metadata": {},
   "source": [
    "## 对CHARTEVENTS表格中PO2和PCO2数据进行去噪"
   ]
  },
  {
   "cell_type": "code",
   "execution_count": 32,
   "id": "69a599d5-757a-4074-a8fd-ccc5a76d974a",
   "metadata": {},
   "outputs": [
    {
     "data": {
      "text/html": [
       "<div>\n",
       "<style scoped>\n",
       "    .dataframe tbody tr th:only-of-type {\n",
       "        vertical-align: middle;\n",
       "    }\n",
       "\n",
       "    .dataframe tbody tr th {\n",
       "        vertical-align: top;\n",
       "    }\n",
       "\n",
       "    .dataframe thead th {\n",
       "        text-align: right;\n",
       "    }\n",
       "</style>\n",
       "<table border=\"1\" class=\"dataframe\">\n",
       "  <thead>\n",
       "    <tr style=\"text-align: right;\">\n",
       "      <th></th>\n",
       "      <th>PO2</th>\n",
       "      <th>PCO2</th>\n",
       "    </tr>\n",
       "    <tr>\n",
       "      <th>序号</th>\n",
       "      <th></th>\n",
       "      <th></th>\n",
       "    </tr>\n",
       "  </thead>\n",
       "  <tbody>\n",
       "    <tr>\n",
       "      <th>7562</th>\n",
       "      <td>50.000000</td>\n",
       "      <td>58.000000</td>\n",
       "    </tr>\n",
       "    <tr>\n",
       "      <th>7563</th>\n",
       "      <td>50.000000</td>\n",
       "      <td>58.000000</td>\n",
       "    </tr>\n",
       "    <tr>\n",
       "      <th>7564</th>\n",
       "      <td>50.000000</td>\n",
       "      <td>58.000000</td>\n",
       "    </tr>\n",
       "    <tr>\n",
       "      <th>7565</th>\n",
       "      <td>50.000000</td>\n",
       "      <td>58.000000</td>\n",
       "    </tr>\n",
       "    <tr>\n",
       "      <th>7566</th>\n",
       "      <td>50.000000</td>\n",
       "      <td>58.000000</td>\n",
       "    </tr>\n",
       "    <tr>\n",
       "      <th>...</th>\n",
       "      <td>...</td>\n",
       "      <td>...</td>\n",
       "    </tr>\n",
       "    <tr>\n",
       "      <th>325114</th>\n",
       "      <td>61.030534</td>\n",
       "      <td>35.979644</td>\n",
       "    </tr>\n",
       "    <tr>\n",
       "      <th>325115</th>\n",
       "      <td>61.022901</td>\n",
       "      <td>35.984733</td>\n",
       "    </tr>\n",
       "    <tr>\n",
       "      <th>325116</th>\n",
       "      <td>61.015267</td>\n",
       "      <td>35.989822</td>\n",
       "    </tr>\n",
       "    <tr>\n",
       "      <th>325117</th>\n",
       "      <td>61.007634</td>\n",
       "      <td>35.994911</td>\n",
       "    </tr>\n",
       "    <tr>\n",
       "      <th>325118</th>\n",
       "      <td>61.000000</td>\n",
       "      <td>36.000000</td>\n",
       "    </tr>\n",
       "  </tbody>\n",
       "</table>\n",
       "<p>312190 rows × 2 columns</p>\n",
       "</div>"
      ],
      "text/plain": [
       "              PO2       PCO2\n",
       "序号                          \n",
       "7562    50.000000  58.000000\n",
       "7563    50.000000  58.000000\n",
       "7564    50.000000  58.000000\n",
       "7565    50.000000  58.000000\n",
       "7566    50.000000  58.000000\n",
       "...           ...        ...\n",
       "325114  61.030534  35.979644\n",
       "325115  61.022901  35.984733\n",
       "325116  61.015267  35.989822\n",
       "325117  61.007634  35.994911\n",
       "325118  61.000000  36.000000\n",
       "\n",
       "[312190 rows x 2 columns]"
      ]
     },
     "execution_count": 32,
     "metadata": {},
     "output_type": "execute_result"
    }
   ],
   "source": [
    "dno2 = drop_noisy(ipl2.iloc[:, :2])\n",
    "dno2"
   ]
  },
  {
   "cell_type": "markdown",
   "id": "b6fc3223-69ac-4c50-8247-f51efed461bf",
   "metadata": {},
   "source": [
    "对PO2和PCO2去噪结果进行可视化展示"
   ]
  },
  {
   "cell_type": "code",
   "execution_count": 33,
   "id": "9999469b-0f5c-4e4b-902b-8680915f5e91",
   "metadata": {},
   "outputs": [
    {
     "data": {
      "text/plain": [
       "<matplotlib.axes._subplots.AxesSubplot at 0x21fc4276130>"
      ]
     },
     "execution_count": 33,
     "metadata": {},
     "output_type": "execute_result"
    },
    {
     "data": {
      "image/png": "[encoded data removed]",
      "text/plain": [
       "<Figure size 432x288 with 1 Axes>"
      ]
     },
     "metadata": {
      "needs_background": "light"
     },
     "output_type": "display_data"
    }
   ],
   "source": [
    "# PO2去噪前后可视化\n",
    "plo3 = pd.DataFrame()\n",
    "plo3['PO2去噪前'] = ipl2['PO2']\n",
    "plo3['PO2去噪后'] = dno2['PO2']\n",
    "plo3.plot.hist(alpha=0.9)"
   ]
  },
  {
   "cell_type": "code",
   "execution_count": 35,
   "id": "a522250b-df36-40b8-9abd-7223bb2785bb",
   "metadata": {},
   "outputs": [
    {
     "data": {
      "text/plain": [
       "<matplotlib.axes._subplots.AxesSubplot at 0x21fc437ad60>"
      ]
     },
     "execution_count": 35,
     "metadata": {},
     "output_type": "execute_result"
    },
    {
     "data": {
      "image/png": "[encoded data removed]",
      "text/plain": [
       "<Figure size 432x288 with 1 Axes>"
      ]
     },
     "metadata": {
      "needs_background": "light"
     },
     "output_type": "display_data"
    }
   ],
   "source": [
    "# PCO2去噪前后可视化\n",
    "plo4 = pd.DataFrame()\n",
    "plo4['PCO2去噪前'] = ipl2['PCO2']\n",
    "plo4['PCO2去噪后'] = dno2['PCO2']\n",
    "plo4.plot.hist(alpha=0.9)"
   ]
  },
  {
   "cell_type": "markdown",
   "id": "d76f6e6c-b995-4388-a598-91ba4858264f",
   "metadata": {},
   "source": [
    "# 离群点处理\n",
    "通过绘制箱形图，将上边缘和下边缘之外的数据视作离群点，将其进行去除"
   ]
  },
  {
   "cell_type": "markdown",
   "id": "2f1b2378-b5a4-4e75-ae17-438ae854d9b8",
   "metadata": {},
   "source": [
    "## 对LABEVENTS表格中PO2和PCO2数据离群点进行处理"
   ]
  },
  {
   "cell_type": "code",
   "execution_count": 36,
   "id": "7aa91512-9ee5-45ef-ae3e-64b6c1ea3003",
   "metadata": {},
   "outputs": [],
   "source": [
    "c = pd.DataFrame()\n",
    "c['PO2'] = plo1['PO2去噪后']\n",
    "c['PCO2'] = plo2['PCO2去噪后']"
   ]
  },
  {
   "cell_type": "code",
   "execution_count": 37,
   "id": "80fcd5bc-72cd-4657-9278-2fcdfabe67e1",
   "metadata": {},
   "outputs": [
    {
     "data": {
      "text/plain": [
       "<matplotlib.axes._subplots.AxesSubplot at 0x21fc4c22b80>"
      ]
     },
     "execution_count": 37,
     "metadata": {},
     "output_type": "execute_result"
    },
    {
     "data": {
      "image/png": "[encoded data removed]",
      "text/plain": [
       "<Figure size 432x288 with 1 Axes>"
      ]
     },
     "metadata": {
      "needs_background": "light"
     },
     "output_type": "display_data"
    }
   ],
   "source": [
    "c.boxplot(showmeans=True, sym='b+')"
   ]
  },
  {
   "cell_type": "markdown",
   "id": "c5aed27f-681a-4952-9317-7257532297ba",
   "metadata": {},
   "source": [
    "对PO2数据进行处理，将箱体图上下边缘的数据进行去除"
   ]
  },
  {
   "cell_type": "code",
   "execution_count": 38,
   "id": "3948f270-2c79-4b79-b1be-0004c84bc4dc",
   "metadata": {},
   "outputs": [],
   "source": [
    "a = pd.DataFrame()\n",
    "b = pd.DataFrame()\n",
    "a['PO2'] = plo1['PO2去噪后']\n",
    "b['PO2离群点处理前'] = a['PO2']\n",
    "# 将箱体图上下边缘的数据进行去除\n",
    "first_quartile = a['PO2'].describe()['25%']\n",
    "third_quartile = a['PO2'].describe()['75%']\n",
    "iqr = third_quartile - first_quartile\n",
    "b['PO2离群点处理后'] = a[(a['PO2'] > (first_quartile - 1.5 * iqr)) &\n",
    "                   (a['PO2'] < (third_quartile + 1.5 * iqr))]"
   ]
  },
  {
   "cell_type": "code",
   "execution_count": 39,
   "id": "c468cc42-0888-4d3e-b78a-f662286194cc",
   "metadata": {},
   "outputs": [
    {
     "data": {
      "text/plain": [
       "<matplotlib.axes._subplots.AxesSubplot at 0x21fee061760>"
      ]
     },
     "execution_count": 39,
     "metadata": {},
     "output_type": "execute_result"
    },
    {
     "data": {
      "image/png": "[encoded data removed]",
      "text/plain": [
       "<Figure size 432x288 with 1 Axes>"
      ]
     },
     "metadata": {
      "needs_background": "light"
     },
     "output_type": "display_data"
    }
   ],
   "source": [
    "b.plot.hist(alpha=0.9)"
   ]
  },
  {
   "cell_type": "markdown",
   "id": "4321346e-91ae-4498-9912-f36395058d63",
   "metadata": {},
   "source": [
    "对PCO2数据进行处理"
   ]
  },
  {
   "cell_type": "code",
   "execution_count": 40,
   "id": "6c4a3951-2963-4ed5-8e56-181e2c1ce7e8",
   "metadata": {},
   "outputs": [],
   "source": [
    "a = pd.DataFrame()\n",
    "b = pd.DataFrame()\n",
    "a['PCO2'] = plo2['PCO2去噪后']\n",
    "b['PCO2离群点处理前'] = a['PCO2']\n",
    "# 将箱体图上下边缘的数据进行去除\n",
    "first_quartile = a['PCO2'].describe()['25%']\n",
    "third_quartile = a['PCO2'].describe()['75%']\n",
    "iqr = third_quartile - first_quartile\n",
    "b['PCO2离群点处理后'] = a[(a['PCO2'] > (first_quartile - 1.5 * iqr)) &\n",
    "                    (a['PCO2'] < (third_quartile + 1.5 * iqr))]"
   ]
  },
  {
   "cell_type": "code",
   "execution_count": 41,
   "id": "b4da3139-40ce-4174-a958-986f1c9f06c4",
   "metadata": {},
   "outputs": [
    {
     "data": {
      "text/plain": [
       "<matplotlib.axes._subplots.AxesSubplot at 0x21fc4c41df0>"
      ]
     },
     "execution_count": 41,
     "metadata": {},
     "output_type": "execute_result"
    },
    {
     "data": {
      "image/png": "[encoded data removed]",
      "text/plain": [
       "<Figure size 432x288 with 1 Axes>"
      ]
     },
     "metadata": {
      "needs_background": "light"
     },
     "output_type": "display_data"
    }
   ],
   "source": [
    "b.plot.hist(alpha=0.9)"
   ]
  },
  {
   "cell_type": "markdown",
   "id": "742364db-0b68-4e7b-8ef2-80027e3369b2",
   "metadata": {},
   "source": [
    "## 对CHARTEVENTS表格中PO2和PCO2数据离群点进行处理"
   ]
  },
  {
   "cell_type": "code",
   "execution_count": 42,
   "id": "11ade7b6-d3f4-47d3-b7c6-8f6ec51bbc0b",
   "metadata": {},
   "outputs": [],
   "source": [
    "c = pd.DataFrame()\n",
    "c['PO2'] = plo3['PO2去噪后']\n",
    "c['PCO2'] = plo4['PCO2去噪后']"
   ]
  },
  {
   "cell_type": "code",
   "execution_count": 43,
   "id": "dfed5433-079c-4b7e-ba15-c900ffe71159",
   "metadata": {},
   "outputs": [
    {
     "data": {
      "text/plain": [
       "<matplotlib.axes._subplots.AxesSubplot at 0x21fc7652ca0>"
      ]
     },
     "execution_count": 43,
     "metadata": {},
     "output_type": "execute_result"
    },
    {
     "data": {
      "image/png": "[encoded data removed]",
      "text/plain": [
       "<Figure size 432x288 with 1 Axes>"
      ]
     },
     "metadata": {
      "needs_background": "light"
     },
     "output_type": "display_data"
    }
   ],
   "source": [
    "c.boxplot(showmeans=True, sym='b+')"
   ]
  },
  {
   "cell_type": "markdown",
   "id": "18c83984-911b-4862-a479-78331b13d76e",
   "metadata": {},
   "source": [
    "对PO2数据进行处理，将箱体图上下边缘的数据进行去除"
   ]
  },
  {
   "cell_type": "code",
   "execution_count": 44,
   "id": "9ff21d3a-e780-4ed6-a5d4-55c2d0fefbdd",
   "metadata": {},
   "outputs": [],
   "source": [
    "a = pd.DataFrame()\n",
    "b = pd.DataFrame()\n",
    "a['PO2'] = plo3['PO2去噪后']\n",
    "b['PO2离群点处理前'] = a['PO2']\n",
    "# 将箱体图上下边缘的数据进行去除\n",
    "first_quartile = a['PO2'].describe()['25%']\n",
    "third_quartile = a['PO2'].describe()['75%']\n",
    "iqr = third_quartile - first_quartile\n",
    "b['PO2离群点处理后'] = a[(a['PO2'] > (first_quartile - 1.5 * iqr)) &\n",
    "                   (a['PO2'] < (third_quartile + 1.5 * iqr))]"
   ]
  },
  {
   "cell_type": "code",
   "execution_count": 45,
   "id": "8fd09014-78b5-4c57-8478-57c45913ceee",
   "metadata": {},
   "outputs": [
    {
     "data": {
      "text/plain": [
       "<matplotlib.axes._subplots.AxesSubplot at 0x21feaea3100>"
      ]
     },
     "execution_count": 45,
     "metadata": {},
     "output_type": "execute_result"
    },
    {
     "data": {
      "image/png": "[encoded data removed]",
      "text/plain": [
       "<Figure size 432x288 with 1 Axes>"
      ]
     },
     "metadata": {
      "needs_background": "light"
     },
     "output_type": "display_data"
    }
   ],
   "source": [
    "b.plot.hist(alpha=0.9)"
   ]
  },
  {
   "cell_type": "markdown",
   "id": "2fa6b3b1-0be9-4d0f-80dd-e836b475dcb4",
   "metadata": {},
   "source": [
    "对PCO2数据进行处理"
   ]
  },
  {
   "cell_type": "code",
   "execution_count": 46,
   "id": "4c88c721-fcd7-41dd-8945-73825cd9d0a6",
   "metadata": {},
   "outputs": [],
   "source": [
    "a = pd.DataFrame()\n",
    "b = pd.DataFrame()\n",
    "a['PCO2'] = plo4['PCO2去噪后']\n",
    "b['PCO2离群点处理前'] = a['PCO2']\n",
    "# 将箱体图上下边缘的数据进行去除\n",
    "first_quartile = a['PCO2'].describe()['25%']\n",
    "third_quartile = a['PCO2'].describe()['75%']\n",
    "iqr = third_quartile - first_quartile\n",
    "b['PCO2离群点处理后'] = a[(a['PCO2'] > (first_quartile - 1.5 * iqr)) &\n",
    "                    (a['PCO2'] < (third_quartile + 1.5 * iqr))]"
   ]
  },
  {
   "cell_type": "code",
   "execution_count": 47,
   "id": "9c71e629-199b-415f-8610-0b7b1177a23d",
   "metadata": {},
   "outputs": [
    {
     "data": {
      "text/plain": [
       "<matplotlib.axes._subplots.AxesSubplot at 0x21fe6e5d910>"
      ]
     },
     "execution_count": 47,
     "metadata": {},
     "output_type": "execute_result"
    },
    {
     "data": {
      "image/png": "[encoded data removed]",
      "text/plain": [
       "<Figure size 432x288 with 1 Axes>"
      ]
     },
     "metadata": {
      "needs_background": "light"
     },
     "output_type": "display_data"
    }
   ],
   "source": [
    "b.plot.hist(alpha=0.9)"
   ]
  }
 ],
 "metadata": {
  "kernelspec": {
   "display_name": "Python 3 (ipykernel)",
   "language": "python",
   "name": "python3"
  },
  "language_info": {
   "codemirror_mode": {
    "name": "ipython",
    "version": 3
   },
   "file_extension": ".py",
   "mimetype": "text/x-python",
   "name": "python",
   "nbconvert_exporter": "python",
   "pygments_lexer": "ipython3",
   "version": "3.8.3"
  }
 },
 "nbformat": 4,
 "nbformat_minor": 5
}
