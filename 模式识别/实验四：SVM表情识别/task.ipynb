{
 "cells": [
  {
   "cell_type": "code",
   "execution_count": 2,
   "metadata": {},
   "outputs": [],
   "source": [
    "import os\n",
    "import numpy as np\n",
    "import cv2\n",
    "import matplotlib.pyplot as plt\n",
    "import seaborn\n",
    "\n",
    "from sklearn.svm import SVC\n",
    "from skimage.feature import hog\n",
    "from sklearn.tree import DecisionTreeClassifier\n",
    "from sklearn.model_selection import train_test_split\n",
    "from sklearn.neighbors import KNeighborsClassifier\n",
    "from sklearn.linear_model import LogisticRegression\n",
    "from sklearn.ensemble import RandomForestClassifier\n",
    "from sklearn.naive_bayes import GaussianNB"
   ]
  },
  {
   "cell_type": "markdown",
   "metadata": {},
   "source": [
    "# 采用Hog提取图片特征"
   ]
  },
  {
   "cell_type": "code",
   "execution_count": 2,
   "metadata": {},
   "outputs": [],
   "source": [
    "def extract_hog_features(X):\n",
    "    image_descriptors = []\n",
    "    for i in range(len(X)):\n",
    "        #print(i)\n",
    "        '''\n",
    "        参数解释：\n",
    "        orientations：方向数\n",
    "        pixels_per_cell：胞元大小\n",
    "        cells_per_block：块大小\n",
    "        block_norm：可选块归一化方法L2-Hys(L2范数)\n",
    "        visualize：可视化\n",
    "        '''\n",
    "        fd, _ = hog(X[i], orientations=9, pixels_per_cell=(16, 16), cells_per_block=(16, 16),block_norm='L2-Hys', visualize=True)\n",
    "        image_descriptors.append(fd) # 拼接得到所有图像的hog特征\n",
    "    return image_descriptors        #返回的是训练部分所有图像的hog特征"
   ]
  },
  {
   "cell_type": "markdown",
   "metadata": {},
   "source": [
    "# 提取单张图片特征"
   ]
  },
  {
   "cell_type": "code",
   "execution_count": 3,
   "metadata": {},
   "outputs": [],
   "source": [
    "def extract_hog_features_single(X):\n",
    "    image_descriptors_single = []\n",
    "    fd, _ = hog(X, orientations=9, pixels_per_cell=(16, 16), cells_per_block=(16, 16),block_norm='L2-Hys', visualize=True)\n",
    "    image_descriptors_single.append(fd)\n",
    "    return image_descriptors_single"
   ]
  },
  {
   "cell_type": "markdown",
   "metadata": {},
   "source": [
    "# 读取数据"
   ]
  },
  {
   "cell_type": "code",
   "execution_count": 8,
   "metadata": {},
   "outputs": [],
   "source": [
    "def read_data(label2id):       #label2id为定义的标签\n",
    "    X = []\n",
    "    Y = []\n",
    "    path ='./jaffe'\n",
    "    for label in os.listdir(path):                 #os.listdir用于返回指定的文件夹包含的文件或文件夹的名字的列表，此处遍历每个文件夹\n",
    "        for img_file in os.listdir(os.path.join(path, label)):             #遍历每个表情文件夹下的图像\n",
    "            image = cv2.imread(os.path.join(path, label, img_file))        #读取图像\n",
    "            if image is not None:\n",
    "                result = image/255.0                                           #图像归一化\n",
    "                cv2.waitKey(0)\n",
    "                cv2.destroyAllWindows()\n",
    "                X.append(result)                                    #将读取到的所有图像的矩阵形式拼接在一起\n",
    "                Y.append(label2id[label])                          #将读取到的所有图像的标签拼接在一起\n",
    "    return X, Y                                               #返回的X,Y分别是图像的矩阵表达和图像的标签"
   ]
  },
  {
   "cell_type": "markdown",
   "metadata": {},
   "source": [
    "# 划分数据 \n",
    "## 训练集/测试集=7/3"
   ]
  },
  {
   "cell_type": "code",
   "execution_count": 9,
   "metadata": {},
   "outputs": [],
   "source": [
    "label2id = {'anger':0, 'disgust':1, 'fear': 2,'happiness':3,'neutral':4,'sadness':5,'surprise':6}\n",
    "X, Y = read_data(label2id)\n",
    "X_features = extract_hog_features(X)\n",
    "X_train, X_test, Y_train, Y_test = train_test_split(X_features, Y, test_size=0.3, random_state=42)"
   ]
  },
  {
   "cell_type": "markdown",
   "metadata": {},
   "source": [
    "# 网格搜索选取SVM参数"
   ]
  },
  {
   "cell_type": "markdown",
   "metadata": {},
   "source": [
    "# 对poly核进行网格搜索"
   ]
  },
  {
   "cell_type": "code",
   "execution_count": 8,
   "metadata": {},
   "outputs": [
    {
     "name": "stdout",
     "output_type": "stream",
     "text": [
      "The best parameters are {'C': 26.66777777777778, 'coef0': 3.8888888888888893, 'degree': 8.0, 'gamma': 7.742636826811277e-06} with a score of 0.75747\n"
     ]
    }
   ],
   "source": [
    "from sklearn.model_selection import KFold, GridSearchCV\n",
    "gamma_range = np.logspace(-10,1,10)\n",
    "coef0_range = np.linspace(0,5,10)\n",
    "C_range = np.linspace(0.01,30,10)\n",
    "degree_range = np.linspace(0,10,11)\n",
    "param_grid = dict(gamma = gamma_range\n",
    "                 ,coef0 = coef0_range\n",
    "                 ,C = C_range\n",
    "                 ,degree = degree_range\n",
    "                 )\n",
    "cv = KFold(n_splits=5,shuffle=True,random_state=520)\n",
    "grid = GridSearchCV(SVC(kernel = \"poly\"),param_grid=param_grid, cv=cv, n_jobs = -1) # n_jobs = -1 调用所有线程\n",
    "grid.fit(X_train, Y_train)\n",
    "print(\"The best parameters are %s with a score of %0.5f\" % (grid.best_params_, grid.best_score_))"
   ]
  },
  {
   "cell_type": "markdown",
   "metadata": {},
   "source": [
    "# 对sigmoid核进行网格搜索"
   ]
  },
  {
   "cell_type": "code",
   "execution_count": 12,
   "metadata": {},
   "outputs": [
    {
     "name": "stdout",
     "output_type": "stream",
     "text": [
      "The best parameters are {'C': 30.0, 'coef0': 0.0, 'gamma': 0.5994842503189421} with a score of 0.70391\n"
     ]
    }
   ],
   "source": [
    "from sklearn.model_selection import KFold, GridSearchCV\n",
    "gamma_range = np.logspace(-10,1,10)\n",
    "coef0_range = np.linspace(0,5,10)\n",
    "C_range = np.linspace(0.01,30,20)\n",
    "param_grid = dict(gamma = gamma_range\n",
    "                 ,coef0 = coef0_range\n",
    "                 ,C = C_range\n",
    "                 )\n",
    "cv = KFold(n_splits=5,shuffle=True,random_state=520)\n",
    "grid = GridSearchCV(SVC(kernel = \"sigmoid\"),param_grid=param_grid, cv=cv, n_jobs = -1) # n_jobs = -1 调用所有线程\n",
    "grid.fit(X_train, Y_train)\n",
    "print(\"The best parameters are %s with a score of %0.5f\" % (grid.best_params_, grid.best_score_))"
   ]
  },
  {
   "cell_type": "markdown",
   "metadata": {},
   "source": [
    "# 对rbf核进行网格搜索"
   ]
  },
  {
   "cell_type": "code",
   "execution_count": 15,
   "metadata": {},
   "outputs": [
    {
     "name": "stdout",
     "output_type": "stream",
     "text": [
      "The best parameters are {'C': 18.95105263157895, 'gamma': 0.5994842503189421} with a score of 0.72391\n"
     ]
    }
   ],
   "source": [
    "from sklearn.model_selection import KFold, GridSearchCV\n",
    "gamma_range = np.logspace(-10,1,10)\n",
    "C_range = np.linspace(0.01,30,20)\n",
    "param_grid = dict(gamma = gamma_range\n",
    "                 ,C = C_range\n",
    "                 )\n",
    "cv = KFold(n_splits=5,shuffle=True,random_state=520)\n",
    "grid = GridSearchCV(SVC(kernel = \"rbf\"),param_grid=param_grid, cv=cv, n_jobs = -1) # n_jobs = -1 调用所有线程\n",
    "grid.fit(X_train, Y_train)\n",
    "print(\"The best parameters are %s with a score of %0.5f\" % (grid.best_params_, grid.best_score_))"
   ]
  },
  {
   "cell_type": "markdown",
   "metadata": {},
   "source": [
    "# 对Linear核进行C取值搜索"
   ]
  },
  {
   "cell_type": "code",
   "execution_count": 23,
   "metadata": {},
   "outputs": [
    {
     "name": "stdout",
     "output_type": "stream",
     "text": [
      "The best c is 15.52207 with a score of 0.93750\n"
     ]
    }
   ],
   "source": [
    "C_range = np.linspace(0.01, 30, 30)\n",
    "best_acc = -1\n",
    "best_c = -1\n",
    "for c in C_range:\n",
    "    clf = SVC(kernel=\"linear\", C=c)\n",
    "    clf.fit(X_train, Y_train)\n",
    "    acc = clf.score(X_test, Y_test)\n",
    "    if acc > best_acc:\n",
    "        best_acc = acc\n",
    "        best_c = c\n",
    "print(\"The best c is %0.5f with a score of %0.5f\" % (best_c, best_acc))"
   ]
  },
  {
   "cell_type": "markdown",
   "metadata": {},
   "source": [
    "# 结果分析：\n",
    "在上面分别对多项式核(poly)，双曲正切核(sigmoid)，高斯径向基(rbf)，线性核(linear)进行了网格搜索\n",
    "\n",
    "poly的最佳准确率为75.7%，sigmoid的最佳准确率为70.4%，rbf的最佳准确率为72.4%，linear的最佳准确率为93.8%\n",
    "\n",
    "因此选择线性核对该数据效果最佳，其中最佳的参数C选择为15.52。"
   ]
  },
  {
   "cell_type": "markdown",
   "metadata": {},
   "source": [
    "# SVM准确率"
   ]
  },
  {
   "cell_type": "code",
   "execution_count": 56,
   "metadata": {},
   "outputs": [
    {
     "name": "stdout",
     "output_type": "stream",
     "text": [
      "SVM准确率为:  0.9375\n"
     ]
    }
   ],
   "source": [
    "svm = SVC(C = 15.52, kernel='linear')\n",
    "svm.fit(X_train, Y_train)\n",
    "Y_predict = svm.predict(X_test)\n",
    "acc = accuracy_score(Y_test, Y_predict)\n",
    "print('SVM准确率为: ', acc)"
   ]
  },
  {
   "cell_type": "markdown",
   "metadata": {},
   "source": [
    "# KNN准确率"
   ]
  },
  {
   "cell_type": "code",
   "execution_count": 28,
   "metadata": {},
   "outputs": [
    {
     "name": "stdout",
     "output_type": "stream",
     "text": [
      "KNN准确率为:  0.859375\n"
     ]
    }
   ],
   "source": [
    "knn = KNeighborsClassifier(n_neighbors=1) # k取1，最近邻准确率较高\n",
    "knn.fit(X_train,Y_train)\n",
    "Y_predict = knn.predict(X_test)\n",
    "acc = accuracy_score(Y_test, Y_predict)\n",
    "print('KNN准确率为: ', acc)"
   ]
  },
  {
   "cell_type": "markdown",
   "metadata": {},
   "source": [
    "# 决策树准确率"
   ]
  },
  {
   "cell_type": "code",
   "execution_count": 29,
   "metadata": {},
   "outputs": [
    {
     "name": "stdout",
     "output_type": "stream",
     "text": [
      "决策树准确率为:  0.40625\n"
     ]
    }
   ],
   "source": [
    "tree_D = DecisionTreeClassifier()\n",
    "tree_D.fit(X_train, Y_train)\n",
    "Y_predict = tree_D.predict(X_test)\n",
    "acc = accuracy_score(Y_test, Y_predict)\n",
    "print('决策树准确率为: ', acc)"
   ]
  },
  {
   "cell_type": "markdown",
   "metadata": {},
   "source": [
    "# 逻辑回归准确率"
   ]
  },
  {
   "cell_type": "code",
   "execution_count": 30,
   "metadata": {},
   "outputs": [
    {
     "name": "stdout",
     "output_type": "stream",
     "text": [
      "逻辑回归准确率为:  0.453125\n"
     ]
    }
   ],
   "source": [
    "logistic = LogisticRegression()\n",
    "logistic.fit(X_train, Y_train)\n",
    "Y_predict = logistic.predict(X_test)\n",
    "acc = accuracy_score(Y_test, Y_predict)\n",
    "print('逻辑回归准确率为: ', acc)"
   ]
  },
  {
   "cell_type": "markdown",
   "metadata": {},
   "source": [
    "# 朴素贝叶斯准确率"
   ]
  },
  {
   "cell_type": "code",
   "execution_count": 31,
   "metadata": {},
   "outputs": [
    {
     "name": "stdout",
     "output_type": "stream",
     "text": [
      "朴素贝叶斯准确率为:  0.609375\n"
     ]
    }
   ],
   "source": [
    "mlt = GaussianNB()\n",
    "mlt.fit(X_train, Y_train)\n",
    "Y_predict = mlt.predict(X_test)\n",
    "acc = accuracy_score(Y_test, Y_predict)\n",
    "print('朴素贝叶斯准确率为: ', acc)"
   ]
  },
  {
   "cell_type": "markdown",
   "metadata": {},
   "source": [
    "# 随机森林准确率"
   ]
  },
  {
   "cell_type": "code",
   "execution_count": 33,
   "metadata": {},
   "outputs": [
    {
     "name": "stdout",
     "output_type": "stream",
     "text": [
      "随机森林准确率为:  0.65625\n"
     ]
    }
   ],
   "source": [
    "Forest = RandomForestClassifier(n_estimators=180,random_state=0)\n",
    "Forest.fit(X_train, Y_train)\n",
    "Y_predict = Forest.predict(X_test)\n",
    "acc = accuracy_score(Y_test, Y_predict)\n",
    "print('随机森林准确率为: ', acc)"
   ]
  },
  {
   "cell_type": "markdown",
   "metadata": {},
   "source": [
    "# SVM+Bagging准确率"
   ]
  },
  {
   "cell_type": "code",
   "execution_count": 52,
   "metadata": {},
   "outputs": [
    {
     "name": "stdout",
     "output_type": "stream",
     "text": [
      "SVM+Bagging准确率为:  0.875\n"
     ]
    }
   ],
   "source": [
    "from sklearn.ensemble import BaggingClassifier\n",
    "svc = SVC(C = 15.52, kernel='linear')\n",
    "clf = BaggingClassifier(base_estimator=svc, n_estimators=20,max_samples=1.0, max_features=1.0, \n",
    "                        bootstrap=True,bootstrap_features=False, n_jobs=1, random_state=1)\n",
    "clf.fit(X_train, Y_train)\n",
    "Y_predict = clf.predict(X_test)\n",
    "acc = accuracy_score(Y_test, Y_predict)\n",
    "print('SVM+Bagging准确率为: ', acc)"
   ]
  },
  {
   "cell_type": "markdown",
   "metadata": {},
   "source": [
    "# AdaBoost准确率"
   ]
  },
  {
   "cell_type": "code",
   "execution_count": 55,
   "metadata": {},
   "outputs": [
    {
     "name": "stdout",
     "output_type": "stream",
     "text": [
      "SVM+Bagging准确率为:  0.296875\n"
     ]
    }
   ],
   "source": [
    "from sklearn.ensemble import AdaBoostClassifier\n",
    "dbt = AdaBoostClassifier(n_estimators=200, learning_rate=0.8)\n",
    "dbt.fit(X_train, Y_train)\n",
    "Y_predict = dbt.predict(X_test)\n",
    "acc = accuracy_score(Y_test, Y_predict)\n",
    "print('adaboost准确率为: ', acc)"
   ]
  },
  {
   "cell_type": "markdown",
   "metadata": {},
   "source": [
    "注:随机森林、SVM+Bagging、AdaBoost属于集成分类器，理论上需经网格搜索调参，才能达到最佳性能，这里未经调参，故准确率偏低。"
   ]
  },
  {
   "cell_type": "markdown",
   "metadata": {},
   "source": [
    "# 绘制SVM分类结果的模糊矩阵"
   ]
  },
  {
   "cell_type": "code",
   "execution_count": 48,
   "metadata": {},
   "outputs": [
    {
     "data": {
      "image/png": "[encoded data removed]",
      "text/plain": [
       "<Figure size 504x360 with 2 Axes>"
      ]
     },
     "metadata": {},
     "output_type": "display_data"
    }
   ],
   "source": [
    "cm = confusion_matrix(Y_test, Y_predict)\n",
    "xtick = ['anger', 'disgust', 'fear', 'happiness', 'neutral', 'sadness', 'surprise']\n",
    "ytick = xtick\n",
    "\n",
    "f, ax = plt.subplots(figsize=(7, 5))\n",
    "ax.tick_params(axis='y', labelsize=15)\n",
    "ax.tick_params(axis='x', labelsize=15)\n",
    "\n",
    "seaborn.set(font_scale=1.2)\n",
    "plt.rc('font', family='Times New Roman',size=15)\n",
    "seaborn.heatmap(cm,fmt='g', cmap='Blues', annot=True, cbar=True,xticklabels=xtick, yticklabels=ytick, ax=ax)\n",
    "plt.title('Confusion Matrix', fontsize='x-large')\n",
    "f.savefig('./模糊矩阵.png')\n",
    "plt.show()"
   ]
  },
  {
   "cell_type": "markdown",
   "metadata": {},
   "source": [
    "# 尝试导入单张图片查看分类效果\n",
    "## 这里选用准确率最高的SVM做分类器"
   ]
  },
  {
   "cell_type": "code",
   "execution_count": 63,
   "metadata": {},
   "outputs": [
    {
     "data": {
      "text/plain": [
       "SVC(C=15.52, kernel='linear')"
      ]
     },
     "execution_count": 63,
     "metadata": {},
     "output_type": "execute_result"
    }
   ],
   "source": [
    "svm = SVC(C = 15.52, kernel='linear')\n",
    "svm.fit(X_train, Y_train)"
   ]
  },
  {
   "cell_type": "code",
   "execution_count": 1,
   "metadata": {},
   "outputs": [
    {
     "ename": "NameError",
     "evalue": "name 'cv2' is not defined",
     "output_type": "error",
     "traceback": [
      "\u001b[1;31m---------------------------------------------------------------------------\u001b[0m",
      "\u001b[1;31mNameError\u001b[0m                                 Traceback (most recent call last)",
      "\u001b[1;32m<ipython-input-1-0ec6dd6ba8c7>\u001b[0m in \u001b[0;36m<module>\u001b[1;34m\u001b[0m\n\u001b[0;32m      1\u001b[0m \u001b[0mpath\u001b[0m \u001b[1;33m=\u001b[0m \u001b[1;34m'./test_pic.jpg'\u001b[0m\u001b[1;33m\u001b[0m\u001b[1;33m\u001b[0m\u001b[0m\n\u001b[1;32m----> 2\u001b[1;33m \u001b[0mimage\u001b[0m \u001b[1;33m=\u001b[0m \u001b[0mcv2\u001b[0m\u001b[1;33m.\u001b[0m\u001b[0mimread\u001b[0m\u001b[1;33m(\u001b[0m\u001b[0mpath\u001b[0m\u001b[1;33m)\u001b[0m\u001b[1;33m\u001b[0m\u001b[1;33m\u001b[0m\u001b[0m\n\u001b[0m\u001b[0;32m      3\u001b[0m \u001b[0mresult\u001b[0m \u001b[1;33m=\u001b[0m \u001b[0mimage\u001b[0m\u001b[1;33m/\u001b[0m\u001b[1;36m255.0\u001b[0m\u001b[1;33m\u001b[0m\u001b[1;33m\u001b[0m\u001b[0m\n\u001b[0;32m      4\u001b[0m \u001b[0mX_Single\u001b[0m \u001b[1;33m=\u001b[0m \u001b[0mextract_hog_features_single\u001b[0m\u001b[1;33m(\u001b[0m\u001b[0mresult\u001b[0m\u001b[1;33m)\u001b[0m\u001b[1;33m\u001b[0m\u001b[1;33m\u001b[0m\u001b[0m\n\u001b[0;32m      5\u001b[0m \u001b[1;31m#这里选择分类器的类别\u001b[0m\u001b[1;33m\u001b[0m\u001b[1;33m\u001b[0m\u001b[1;33m\u001b[0m\u001b[0m\n",
      "\u001b[1;31mNameError\u001b[0m: name 'cv2' is not defined"
     ]
    }
   ],
   "source": [
    "path = './test_pic.jpg'\n",
    "image = cv2.imread(path)\n",
    "result = image/255.0\n",
    "X_Single = extract_hog_features_single(result)\n",
    "#这里选择分类器的类别\n",
    "predict = svm.predict(X_Single)\n",
    "if predict == 0:\n",
    "    print('angry')\n",
    "elif predict == 1:\n",
    "    print('disgust')\n",
    "elif predict == 2:\n",
    "    print('fear')\n",
    "elif predict == 3:\n",
    "    print('happy')\n",
    "elif predict == 4:\n",
    "    print('neutral')\n",
    "elif predict == 5:\n",
    "    print('sad')\n",
    "elif predict == 6:\n",
    "    print('surprise')"
   ]
  }
 ],
 "metadata": {
  "kernelspec": {
   "display_name": "Python 3",
   "language": "python",
   "name": "python3"
  },
  "language_info": {
   "codemirror_mode": {
    "name": "ipython",
    "version": 3
   },
   "file_extension": ".py",
   "mimetype": "text/x-python",
   "name": "python",
   "nbconvert_exporter": "python",
   "pygments_lexer": "ipython3",
   "version": "3.8.3"
  }
 },
 "nbformat": 4,
 "nbformat_minor": 4
}
